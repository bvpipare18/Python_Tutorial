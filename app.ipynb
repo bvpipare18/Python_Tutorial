{
 "cells": [
  {
   "cell_type": "code",
   "execution_count": 20,
   "metadata": {},
   "outputs": [
    {
     "name": "stdout",
     "output_type": "stream",
     "text": [
      "BHARAT PIPARE\n",
      "o----\n",
      " ||||\n"
     ]
    }
   ],
   "source": [
    "print(\"BHARAT PIPARE\")\n",
    "print('o----')\n",
    "print(' ||||')"
   ]
  },
  {
   "cell_type": "markdown",
   "metadata": {},
   "source": [
    "# Hello Internet This is Python Tutorial"
   ]
  },
  {
   "cell_type": "markdown",
   "metadata": {},
   "source": [
    "If you want draw multiple asterisks or anthing multiple times then you must multiply the string and integer in print function like below."
   ]
  },
  {
   "cell_type": "code",
   "execution_count": 1,
   "metadata": {},
   "outputs": [
    {
     "name": "stdout",
     "output_type": "stream",
     "text": [
      "**********\n"
     ]
    }
   ],
   "source": [
    "print('*' * 10)"
   ]
  },
  {
   "cell_type": "code",
   "execution_count": 2,
   "metadata": {},
   "outputs": [
    {
     "name": "stdout",
     "output_type": "stream",
     "text": [
      "hello world\n"
     ]
    }
   ],
   "source": [
    "print(\"hello world\")"
   ]
  },
  {
   "cell_type": "markdown",
   "metadata": {},
   "source": [
    "# '*' * 10 is called a Expression"
   ]
  },
  {
   "cell_type": "markdown",
   "metadata": {},
   "source": [
    "# Variable: It stores a temporary Data"
   ]
  },
  {
   "cell_type": "markdown",
   "metadata": {},
   "source": [
    "It is like a Box which has label(Variable Name) and the data present in it is Variable's Value.\n",
    "For e.g."
   ]
  },
  {
   "cell_type": "code",
   "execution_count": 3,
   "metadata": {},
   "outputs": [
    {
     "name": "stdout",
     "output_type": "stream",
     "text": [
      "10\n"
     ]
    }
   ],
   "source": [
    "price = 10\n",
    "print(price)"
   ]
  },
  {
   "cell_type": "code",
   "execution_count": 4,
   "metadata": {},
   "outputs": [
    {
     "name": "stdout",
     "output_type": "stream",
     "text": [
      "20\n"
     ]
    }
   ],
   "source": [
    "price = 10\n",
    "price = 20\n",
    "print(price)"
   ]
  },
  {
   "cell_type": "markdown",
   "metadata": {},
   "source": [
    "As above Example,\n",
    "Python Runs step by step from Top to Down and it will print the recent value assigned before passing the variable name print() function."
   ]
  },
  {
   "cell_type": "markdown",
   "metadata": {},
   "source": [
    "# Data Types: The type of a Variable Name"
   ]
  },
  {
   "cell_type": "markdown",
   "metadata": {},
   "source": [
    "Python is case sensitive language somake sure while assigning Variable name and later using that in code.\n",
    "integer,float,string,bool value"
   ]
  },
  {
   "cell_type": "code",
   "execution_count": 6,
   "metadata": {},
   "outputs": [
    {
     "name": "stdout",
     "output_type": "stream",
     "text": [
      "10\n",
      "4.9\n",
      "India\n",
      "True\n"
     ]
    }
   ],
   "source": [
    "price = 10\n",
    "rating = 4.9\n",
    "name = 'India'\n",
    "is_published = True\n",
    "print(price)\n",
    "print(rating)\n",
    "print(name)\n",
    "print(is_published)"
   ]
  },
  {
   "cell_type": "markdown",
   "metadata": {},
   "source": [
    "# Do you want to know type of a variable name in jupyter notebook?\n",
    "Type %whos"
   ]
  },
  {
   "cell_type": "code",
   "execution_count": 7,
   "metadata": {},
   "outputs": [
    {
     "name": "stdout",
     "output_type": "stream",
     "text": [
      "Variable       Type     Data/Info\n",
      "---------------------------------\n",
      "is_published   bool     True\n",
      "name           str      India\n",
      "price          int      10\n",
      "rating         float    4.9\n"
     ]
    }
   ],
   "source": [
    "%whos"
   ]
  },
  {
   "cell_type": "code",
   "execution_count": 8,
   "metadata": {},
   "outputs": [],
   "source": [
    "full_name = 'Elon Musk'\n",
    "age = 46\n",
    "is_superman = True"
   ]
  },
  {
   "cell_type": "markdown",
   "metadata": {},
   "source": [
    "# Getting input :"
   ]
  },
  {
   "cell_type": "markdown",
   "metadata": {},
   "source": [
    "input() function takes input from user and it always returns string"
   ]
  },
  {
   "cell_type": "code",
   "execution_count": 11,
   "metadata": {},
   "outputs": [
    {
     "name": "stdout",
     "output_type": "stream",
     "text": [
      "What is your name?John\n",
      "Hi John\n"
     ]
    }
   ],
   "source": [
    "name = input(\"What is your name?\")\n",
    "print(\"Hi \" + name)"
   ]
  },
  {
   "cell_type": "markdown",
   "metadata": {},
   "source": [
    "# Question:\n",
    "Take Name and Favorite color as a input and Print (nane likes Ffavorite color)"
   ]
  },
  {
   "cell_type": "code",
   "execution_count": 12,
   "metadata": {},
   "outputs": [
    {
     "name": "stdout",
     "output_type": "stream",
     "text": [
      "Hey, What is Your name?Mosh\n",
      "What is your favorite Color?blue\n",
      "Mosh likes blue\n"
     ]
    }
   ],
   "source": [
    "name = input(\"Hey, What is Your name?\")\n",
    "fav_color = input(\"What is your favorite Color?\")\n",
    "print(name + \" likes \" + fav_color)"
   ]
  },
  {
   "cell_type": "markdown",
   "metadata": {},
   "source": [
    "# Question:\n",
    "Take Birth year as a input and Print the current age."
   ]
  },
  {
   "cell_type": "code",
   "execution_count": 17,
   "metadata": {},
   "outputs": [
    {
     "name": "stdout",
     "output_type": "stream",
     "text": [
      "Enter Birth Year:     1971\n",
      "<class 'str'>\n",
      "<class 'int'>\n",
      "49\n"
     ]
    }
   ],
   "source": [
    "birth_year = (input(\"Enter Birth Year:     \"))\n",
    "print(type(birth_year))\n",
    "age = 2020 - int(birth_year)\n",
    "print(type(age))\n",
    "print(age)\n"
   ]
  },
  {
   "cell_type": "markdown",
   "metadata": {},
   "source": [
    "# Question:\n",
    "Take a Weight(in Pounds or lbs) & Convert it into Kg and Print."
   ]
  },
  {
   "cell_type": "code",
   "execution_count": 18,
   "metadata": {},
   "outputs": [
    {
     "name": "stdout",
     "output_type": "stream",
     "text": [
      "Weight (lbs): 160\n",
      "72.0\n"
     ]
    }
   ],
   "source": [
    "# 1 POUND == 0.45KG\n",
    "\n",
    "weight_lbs = input('Weight (lbs): ')\n",
    "weight_kg = int(weight_lbs) * 0.45\n",
    "print(weight_kg)"
   ]
  },
  {
   "cell_type": "markdown",
   "metadata": {},
   "source": [
    "# Strings: It is a password/letter/sentence/number/special symbol written in ' ' while assignning."
   ]
  },
  {
   "cell_type": "code",
   "execution_count": 19,
   "metadata": {},
   "outputs": [
    {
     "name": "stdout",
     "output_type": "stream",
     "text": [
      "Python for Beginners\n",
      "Python for \"Beginners\"\n",
      "Python for Beginners\n",
      "Python's Course for Beginners\n"
     ]
    }
   ],
   "source": [
    "course = 'Python for Beginners'\n",
    "course_1 = 'Python for \"Beginners\"'\n",
    "title = \"Python for Beginners\"\n",
    "title_1 = \"Python's Course for Beginners\"\n",
    "print(course)\n",
    "print(course_1)\n",
    "print(title)\n",
    "print(title_1)"
   ]
  },
  {
   "cell_type": "code",
   "execution_count": 1,
   "metadata": {},
   "outputs": [
    {
     "name": "stdout",
     "output_type": "stream",
     "text": [
      "Hi John,\n",
      "\n",
      "Here is our first email to you.\n",
      "These 3 times inverted commas can be used for multiple line strings.\n",
      "            \n",
      "                \n",
      "Thank You,\n",
      "The Support Team\n"
     ]
    }
   ],
   "source": [
    "course = '''Hi John,\n",
    "\n",
    "Here is our first email to you.\n",
    "These 3 times inverted commas can be used for multiple line strings.\n",
    "            \n",
    "                \n",
    "Thank You,\n",
    "The Support Team'''\n",
    "print(course)"
   ]
  },
  {
   "cell_type": "code",
   "execution_count": 36,
   "metadata": {},
   "outputs": [
    {
     "name": "stdout",
     "output_type": "stream",
     "text": [
      "P\n",
      "Python for Beginners\n",
      "Python for Beginners\n",
      "Pytho\n",
      "Python for Beginner\n",
      "Pyt\n",
      "s\n",
      "on for Beginner\n",
      "\n",
      "nner\n",
      "rs\n"
     ]
    }
   ],
   "source": [
    "course = 'Python for Beginners'\n",
    "print(course[0])\n",
    "print(course[0:])\n",
    "print(course[:])\n",
    "print(course[:5])\n",
    "print(course[:-1])\n",
    "print(course[0:3]) # 0 is include and 3 is exclude\n",
    "print(course[-1])\n",
    "print(course[4:-1])\n",
    "print(course[-1:4])\n",
    "print(course[-5:-1])\n",
    "print(course[-2:])\n",
    "print(course[0])\n"
   ]
  },
  {
   "cell_type": "markdown",
   "metadata": {},
   "source": [
    "# Formatted Strings:"
   ]
  },
  {
   "cell_type": "markdown",
   "metadata": {},
   "source": [
    "# Output: John [Smith] is a coder"
   ]
  },
  {
   "cell_type": "code",
   "execution_count": 3,
   "metadata": {},
   "outputs": [
    {
     "name": "stdout",
     "output_type": "stream",
     "text": [
      "John [Smith] is a coder\n",
      "John [Smith] is a coder\n"
     ]
    }
   ],
   "source": [
    "first_name = 'John'\n",
    "last_name = 'Smith'\n",
    "\n",
    "# First Method: String Concatenation\n",
    "message = first_name + ' [' + last_name + '] is a coder'\n",
    "print(message)\n",
    "\n",
    "\n",
    "#Second Method: String Formatting,we use {value} to pass the variable name\n",
    "message_1 = f'{first_name} [{last_name}] is a coder'\n",
    "print(message_1)"
   ]
  },
  {
   "cell_type": "markdown",
   "metadata": {},
   "source": [
    "# String Methods: We refer the functions as methods in python."
   ]
  },
  {
   "cell_type": "markdown",
   "metadata": {},
   "source": [
    " 1. len(): This function is used to count the no. of characters in defined string.\n",
    " \n",
    " For Example:"
   ]
  },
  {
   "cell_type": "code",
   "execution_count": 4,
   "metadata": {},
   "outputs": [
    {
     "name": "stdout",
     "output_type": "stream",
     "text": [
      "20\n"
     ]
    }
   ],
   "source": [
    "course = 'Python For Beginners'\n",
    "print(len(course))"
   ]
  },
  {
   "cell_type": "markdown",
   "metadata": {},
   "source": [
    "2. .upper & .lower are called methods and they are used to convert the string capital or small. Also they doesn't overwrite or modify existing string they returns us new string. "
   ]
  },
  {
   "cell_type": "code",
   "execution_count": 7,
   "metadata": {},
   "outputs": [
    {
     "name": "stdout",
     "output_type": "stream",
     "text": [
      "PYTHON FOR BEGINNERS\n",
      "python for beginners\n",
      "Python For Beginners\n"
     ]
    }
   ],
   "source": [
    "print(course.upper())\n",
    "print(course.lower())\n",
    "print(course)"
   ]
  },
  {
   "cell_type": "markdown",
   "metadata": {},
   "source": [
    "3. .find method takes argument as a string and returns the index of that string.Also it is Casw sensitive."
   ]
  },
  {
   "cell_type": "code",
   "execution_count": 8,
   "metadata": {},
   "outputs": [
    {
     "name": "stdout",
     "output_type": "stream",
     "text": [
      "0\n",
      "4\n",
      "5\n",
      "0\n"
     ]
    }
   ],
   "source": [
    "print(course.find('P'))\n",
    "print(course.find('o'))\n",
    "print(course.find('n'))\n",
    "print(course.find('Pyth'))"
   ]
  },
  {
   "cell_type": "markdown",
   "metadata": {},
   "source": [
    "4. .replace method takes 2 argument as a string and one i.e. string in .Also it is Case sensitive."
   ]
  },
  {
   "cell_type": "code",
   "execution_count": 3,
   "metadata": {},
   "outputs": [
    {
     "name": "stdout",
     "output_type": "stream",
     "text": [
      "Python For Absolute Beginners\n",
      "Aython For Beginners\n"
     ]
    }
   ],
   "source": [
    "course = 'Python For Beginners'\n",
    "print(course.replace('Beginners', 'Absolute Beginners'))\n",
    "print(course.replace('P', 'A'))"
   ]
  },
  {
   "cell_type": "markdown",
   "metadata": {},
   "source": [
    "5. To check whether the string is there are not. in() method or operator is used and it returns boolean value either T or F. "
   ]
  },
  {
   "cell_type": "code",
   "execution_count": 5,
   "metadata": {},
   "outputs": [
    {
     "name": "stdout",
     "output_type": "stream",
     "text": [
      "True\n",
      "False\n"
     ]
    }
   ],
   "source": [
    "#  This will check whether string 'Python' is present or not.\n",
    "print('Python' in course)\n",
    "print('python' in course)"
   ]
  },
  {
   "cell_type": "markdown",
   "metadata": {},
   "source": [
    "# Arithmetic Operations:"
   ]
  },
  {
   "cell_type": "code",
   "execution_count": 11,
   "metadata": {},
   "outputs": [
    {
     "name": "stdout",
     "output_type": "stream",
     "text": [
      "13\n",
      "7\n",
      "30\n",
      "3.3333333333333335\n",
      "3\n",
      "1\n",
      "1000\n",
      "7\n",
      "10\n"
     ]
    }
   ],
   "source": [
    "print(10 + 3)\n",
    "print(10 - 3)\n",
    "print(10 * 3)\n",
    "print(10 / 3)\n",
    "print(10 // 3) # Integer Division\n",
    "print(10 % 3)\n",
    "print(10 ** 3) # equals to 10^3\n",
    "\n",
    "# Augumented or Enhanced Assignment Operator \n",
    "x = 10\n",
    "x -= 3\n",
    "print(x)\n",
    "x += 3 # x = x + 3\n",
    "print(x)"
   ]
  },
  {
   "cell_type": "markdown",
   "metadata": {},
   "source": [
    "# Operator precedance:\n",
    "paranthesis                                                         \n",
    "exponentiation 2 ** 3,   \n",
    "mulitiplication or division,                                         \n",
    "addition or subtraction"
   ]
  },
  {
   "cell_type": "code",
   "execution_count": 13,
   "metadata": {},
   "outputs": [
    {
     "name": "stdout",
     "output_type": "stream",
     "text": [
      "22\n",
      "47\n"
     ]
    }
   ],
   "source": [
    "x = 10 + 3 * 2 ** 2\n",
    "print(x)\n",
    "x = (2 + 3) * 10 - 3\n",
    "print(x)"
   ]
  },
  {
   "cell_type": "markdown",
   "metadata": {},
   "source": [
    "# Maths Functions:"
   ]
  },
  {
   "cell_type": "markdown",
   "metadata": {},
   "source": [
    "round() functions rounds the value to nearest integer."
   ]
  },
  {
   "cell_type": "code",
   "execution_count": 2,
   "metadata": {},
   "outputs": [
    {
     "name": "stdout",
     "output_type": "stream",
     "text": [
      "2\n",
      "3\n"
     ]
    }
   ],
   "source": [
    "x = 2.3\n",
    "y = 2.56\n",
    "print(round(x))\n",
    "print(round(y))"
   ]
  },
  {
   "cell_type": "code",
   "execution_count": 5,
   "metadata": {},
   "outputs": [
    {
     "name": "stdout",
     "output_type": "stream",
     "text": [
      "2.9\n",
      "2.9\n"
     ]
    }
   ],
   "source": [
    "# abs() gives us the positive or modulas value of passed value.\n",
    "print(abs(-2.9))\n",
    "print(abs(2.9))"
   ]
  },
  {
   "cell_type": "markdown",
   "metadata": {},
   "source": [
    "If you want to use the complex mathematical function then you must import some math modules(It is a seprate file having reusable code).\n",
    "For e.g. Each section in the super market is called modules in Python.\n",
    "import math -> in this math is a object and we can access methods of that object by using dot(.) operator."
   ]
  },
  {
   "cell_type": "code",
   "execution_count": 11,
   "metadata": {},
   "outputs": [
    {
     "name": "stdout",
     "output_type": "stream",
     "text": [
      "3\n",
      "2\n",
      "2\n",
      "2\n",
      "0.5403023058681398\n"
     ]
    }
   ],
   "source": [
    "import math\n",
    "print(math.ceil(2.8))\n",
    "print(math.ceil(2))\n",
    "print(math.floor(2.8))\n",
    "print(math.floor(2))\n",
    "print(math.cos(1))"
   ]
  },
  {
   "cell_type": "markdown",
   "metadata": {},
   "source": [
    "# Question:\n",
    "if it's hot                                                         \n",
    "    It's a hot day                                                   \n",
    "    Drink plenty of water                                           \n",
    "otherwise if it's cold                                               \n",
    "    It's a cold day                                                 \n",
    "    Wear warm clothes                                               \n",
    "otherwise                                                       \n",
    "    It's a lovely day"
   ]
  },
  {
   "cell_type": "code",
   "execution_count": 15,
   "metadata": {},
   "outputs": [
    {
     "name": "stdout",
     "output_type": "stream",
     "text": [
      "It's a lovely day\n",
      "Enjoy your day\n"
     ]
    }
   ],
   "source": [
    "is_hot = False\n",
    "is_cold = False\n",
    "\n",
    "if is_hot:\n",
    "    print(\"It's a hot day\")\n",
    "    print(\"Drink plenty of water\")\n",
    "elif is_cold:\n",
    "    print(\"It's a cold day\")\n",
    "    print(\"Wear warm clothes\")\n",
    "else:\n",
    "    print(\"It's a lovely day\")\n",
    "    print(\"Enjoy your day\")\n"
   ]
  },
  {
   "cell_type": "markdown",
   "metadata": {},
   "source": [
    "# Question:\n",
    "Price of a house is $1M                                             \n",
    "if buyer has good credit,\n",
    "\n",
    "they need to put down 10%\n",
    "\n",
    "otherwise                                                               they need to put down 20%"
   ]
  },
  {
   "cell_type": "code",
   "execution_count": 20,
   "metadata": {},
   "outputs": [
    {
     "name": "stdout",
     "output_type": "stream",
     "text": [
      "Down payment:  $200000.0\n"
     ]
    }
   ],
   "source": [
    "price = 10**6\n",
    "has_good_credit = False\n",
    "\n",
    "if has_good_credit:\n",
    "    down_payment = 0.1 * price\n",
    "else:\n",
    "    down_payment = 0.2 * price\n",
    "print(f\"Down payment:  ${down_payment}\")"
   ]
  },
  {
   "cell_type": "markdown",
   "metadata": {},
   "source": [
    "# Logical operator:\n",
    "if applicant has high income AND good credit \n",
    "Eligible for loan"
   ]
  },
  {
   "cell_type": "code",
   "execution_count": 24,
   "metadata": {},
   "outputs": [
    {
     "name": "stdout",
     "output_type": "stream",
     "text": [
      "Eligible for loan\n",
      "Eligible for loan\n",
      "Eligible for loan\n"
     ]
    }
   ],
   "source": [
    "has_high_income = True\n",
    "has_good_credit = True\n",
    "\n",
    "if has_high_income and has_good_credit:\n",
    "    print(\"Eligible for loan\")\n",
    "    \n",
    "if has_high_income or has_good_credit:\n",
    "    print(\"Eligible for loan\")\n",
    "    \n",
    "has_high_income = True\n",
    "has_good_credit = False\n",
    "\n",
    "if has_high_income and not has_good_credit:\n",
    "    print(\"Eligible for loan\")"
   ]
  },
  {
   "cell_type": "markdown",
   "metadata": {},
   "source": [
    "# Comparison operator:\n",
    "\n",
    "# Question:\n",
    "\n",
    "\n",
    "if temperature is greater than 30\n",
    "\n",
    "it's a hot day                                                 \n",
    "\n",
    "otherwise if it's less than 10                                       \n",
    "\n",
    "it's a cold day                                                  \n",
    "\n",
    "otherwise                                                           \n",
    "\n",
    "it's neither hot nor cold"
   ]
  },
  {
   "cell_type": "code",
   "execution_count": 28,
   "metadata": {},
   "outputs": [
    {
     "name": "stdout",
     "output_type": "stream",
     "text": [
      "What is the temperature today?45\n",
      "It's a hot day\n"
     ]
    }
   ],
   "source": [
    "temp = int(input(\"What is the temperature today?\"))\n",
    "# equals to ==,not equals to !=\n",
    "if temp > 30:\n",
    "    print(\"It's a hot day\")\n",
    "elif temp < 10:\n",
    "    print(\"it's a cold day\")\n",
    "else:\n",
    "    print(\"it's neither hot nor cold\")"
   ]
  },
  {
   "cell_type": "markdown",
   "metadata": {},
   "source": [
    "#  Question:"
   ]
  },
  {
   "cell_type": "code",
   "execution_count": 34,
   "metadata": {},
   "outputs": [
    {
     "name": "stdout",
     "output_type": "stream",
     "text": [
      "What is your name?john\n",
      "name looks good!\n"
     ]
    }
   ],
   "source": [
    "name = input(\"What is your name?\")\n",
    "name_len = len(name)\n",
    "\n",
    "if name_len < 3:\n",
    "    print(\"name must be at least 3 charachters long \")\n",
    "elif name_len > 50:\n",
    "    print(\"name can be a maximum of 50 characters\")\n",
    "else:\n",
    "    print(\"name looks good!\")"
   ]
  },
  {
   "cell_type": "markdown",
   "metadata": {},
   "source": [
    "# Project: Weight Converter"
   ]
  },
  {
   "cell_type": "code",
   "execution_count": 41,
   "metadata": {},
   "outputs": [
    {
     "name": "stdout",
     "output_type": "stream",
     "text": [
      "Weight:  160\n",
      "Above weight entered is (L)bs or (K)g:  l\n",
      "You are 72.0 kilos.\n"
     ]
    }
   ],
   "source": [
    "weight = int(input('Weight:  '))\n",
    "unit = input('Above weight entered is (L)bs or (K)g:  ')\n",
    "\n",
    "if unit.upper() == 'L':\n",
    "    converted = weight * 0.45\n",
    "    print(f\"You are {converted} kilos.\")\n",
    "else:\n",
    "    converted = weight / 0.45\n",
    "    print(f\"You are {converted} pounds.\")"
   ]
  },
  {
   "cell_type": "markdown",
   "metadata": {},
   "source": [
    "#  while loops:\n",
    "while condition:\n",
    "        ......\n",
    "        \n",
    "        this will be executed till  that condition is true"
   ]
  },
  {
   "cell_type": "code",
   "execution_count": 1,
   "metadata": {},
   "outputs": [
    {
     "name": "stdout",
     "output_type": "stream",
     "text": [
      "1\n",
      "2\n",
      "3\n",
      "4\n",
      "5\n",
      "Done\n"
     ]
    }
   ],
   "source": [
    "i = 1\n",
    "while i <= 5:\n",
    "    print(i)\n",
    "    i += 1\n",
    "print(\"Done\")"
   ]
  },
  {
   "cell_type": "code",
   "execution_count": 2,
   "metadata": {},
   "outputs": [
    {
     "name": "stdout",
     "output_type": "stream",
     "text": [
      "*****\n",
      "****\n",
      "***\n",
      "**\n",
      "*\n",
      "All stars!!\n"
     ]
    }
   ],
   "source": [
    "i = 5\n",
    "while i > 0:\n",
    "    print('*' * i)\n",
    "    i -= 1\n",
    "print(\"All stars!!\")"
   ]
  },
  {
   "cell_type": "code",
   "execution_count": 4,
   "metadata": {},
   "outputs": [
    {
     "name": "stdout",
     "output_type": "stream",
     "text": [
      "*****\n",
      "**********\n",
      "***************\n",
      "********************\n",
      "*************************\n",
      "All stars!!\n"
     ]
    }
   ],
   "source": [
    "i = 5\n",
    "while i <= 25:\n",
    "    print('*' * i)\n",
    "    i += 5\n",
    "print(\"All stars!!\")"
   ]
  },
  {
   "cell_type": "markdown",
   "metadata": {},
   "source": [
    "# Guessing Game:"
   ]
  },
  {
   "cell_type": "code",
   "execution_count": 9,
   "metadata": {},
   "outputs": [
    {
     "name": "stdout",
     "output_type": "stream",
     "text": [
      "Guess: 4\n",
      "Guess: 5\n",
      "Guess: 9\n",
      "You Won!\n"
     ]
    }
   ],
   "source": [
    "secret_number = 9\n",
    "guess_count = 0\n",
    "guess_limit = 3\n",
    "while guess_count < guess_limit:\n",
    "    guess = int(input('Guess: '))\n",
    "    guess_count += 1\n",
    "    if guess == secret_number:\n",
    "        print('You Won!')\n",
    "        break\n",
    "        \n",
    "# In this while block can have else part.\n",
    "else:\n",
    "    print(\"Sorry you Failed! Try Again\")"
   ]
  },
  {
   "cell_type": "markdown",
   "metadata": {},
   "source": [
    "# Car Game:"
   ]
  },
  {
   "cell_type": "code",
   "execution_count": 8,
   "metadata": {},
   "outputs": [
    {
     "name": "stdout",
     "output_type": "stream",
     "text": [
      ">help\n",
      "\n",
      "start - to start the car\n",
      "stop - to stop the car\n",
      "quit - to quit\n",
      "            \n",
      ">start\n",
      "Car Started...\n",
      ">start\n",
      "Car is Already Started!\n",
      ">stop\n",
      "Car stopped..\n",
      ">stop\n",
      "Car is Already stopped!!\n",
      ">quit\n"
     ]
    }
   ],
   "source": [
    "command = \"\"\n",
    "started = False\n",
    "while True:\n",
    "    command = input(\">\").lower()\n",
    "    if command == \"start\":\n",
    "        if started:\n",
    "            print(\"Car is Already Started!\")\n",
    "        else:\n",
    "            started = True\n",
    "            print(\"Car Started...\")\n",
    "    elif command == \"stop\":\n",
    "        if not started:\n",
    "            print(\"Car is Already stopped!!\")\n",
    "        else:\n",
    "            started = False\n",
    "            print(\"Car stopped..\")\n",
    "    elif command == \"help\":\n",
    "        print('''\n",
    "start - to start the car\n",
    "stop - to stop the car\n",
    "quit - to quit\n",
    "            ''')\n",
    "    elif command == 'quit':\n",
    "        break\n",
    "    else:\n",
    "        print(\"Sorry, I don't umderstand this command!\")"
   ]
  },
  {
   "cell_type": "markdown",
   "metadata": {},
   "source": [
    "# For Loops:\n",
    "Used To iterate over strings, list[] and many more string(sequence of characters)\n",
    "\n",
    "for (defined value) in (string): "
   ]
  },
  {
   "cell_type": "code",
   "execution_count": 3,
   "metadata": {},
   "outputs": [
    {
     "name": "stdout",
     "output_type": "stream",
     "text": [
      "P\n",
      "y\n",
      "t\n",
      "h\n",
      "o\n",
      "n\n"
     ]
    }
   ],
   "source": [
    "for item in 'Python':\n",
    "    print(item)"
   ]
  },
  {
   "cell_type": "code",
   "execution_count": 7,
   "metadata": {},
   "outputs": [
    {
     "name": "stdout",
     "output_type": "stream",
     "text": [
      "2\n",
      "4\n",
      "6\n",
      "8\n",
      "10\n",
      "12\n",
      "14\n",
      "16\n",
      "18\n",
      "20\n"
     ]
    }
   ],
   "source": [
    "for item in range(2, 21, 2): #range(start, end, steps-by which ammount to increase)\n",
    "    print(item)"
   ]
  },
  {
   "cell_type": "code",
   "execution_count": 16,
   "metadata": {},
   "outputs": [
    {
     "name": "stdout",
     "output_type": "stream",
     "text": [
      "Total:  60\n"
     ]
    }
   ],
   "source": [
    "#To calculate the total of all values in the given list.\n",
    "prices = [10, 20, 30]\n",
    "\n",
    "\n",
    "total = 0\n",
    "for price in prices:\n",
    "    total += price\n",
    "print(f\"Total:  {total}\")"
   ]
  },
  {
   "cell_type": "markdown",
   "metadata": {},
   "source": [
    "# Nested loops: Adding loop inside a loop"
   ]
  },
  {
   "cell_type": "code",
   "execution_count": 19,
   "metadata": {},
   "outputs": [
    {
     "name": "stdout",
     "output_type": "stream",
     "text": [
      "(0, 0)\n",
      "(0, 1)\n",
      "(0, 2)\n",
      "(1, 0)\n",
      "(1, 1)\n",
      "(1, 2)\n",
      "(2, 0)\n",
      "(2, 1)\n",
      "(2, 2)\n"
     ]
    }
   ],
   "source": [
    "#To generate list of coordinates i.e (x, y)\n",
    "for x in range(3): # 5 is not included in this\n",
    "    for y in range(3):\n",
    "        print(f'({x}, {y})')"
   ]
  },
  {
   "cell_type": "markdown",
   "metadata": {},
   "source": [
    "# Challenge:"
   ]
  },
  {
   "cell_type": "code",
   "execution_count": 32,
   "metadata": {},
   "outputs": [
    {
     "name": "stdout",
     "output_type": "stream",
     "text": [
      "xxxxx\n",
      "xx\n",
      "xxxxx\n",
      "xx\n",
      "xx\n",
      "\n",
      "this is by second method\n",
      "\n",
      "xxxxx\n",
      "xx\n",
      "xxxxx\n",
      "xx\n",
      "xx\n",
      "\n",
      "To print L\n",
      "\n",
      "xx\n",
      "xx\n",
      "xx\n",
      "xx\n",
      "xxxxx\n"
     ]
    }
   ],
   "source": [
    "# To print capital letter F in xx format\n",
    "number = [5, 2, 5, 2, 2]\n",
    "for num in number:\n",
    "    print('x' * num)\n",
    "    \n",
    "print('''\n",
    "this is by second method\n",
    "''')\n",
    "\n",
    "# second method    \n",
    "for x_count in number:\n",
    "    output = ''\n",
    "    for count in range(x_count):\n",
    "        output += 'x'\n",
    "    print(output)\n",
    "    \n",
    "print('''\n",
    "To print L\n",
    "''')\n",
    "    \n",
    "#To print L\n",
    "number = [2, 2, 2, 2, 5]\n",
    "for num in number:\n",
    "    print('x' * num)"
   ]
  },
  {
   "cell_type": "markdown",
   "metadata": {},
   "source": [
    "# Lists:\n",
    "we use [ ] brackets to define list'"
   ]
  },
  {
   "cell_type": "code",
   "execution_count": 46,
   "metadata": {},
   "outputs": [
    {
     "name": "stdout",
     "output_type": "stream",
     "text": [
      "👦 🧒 👧 👩 🧓 \n",
      "['John', 'Bob', 'Sarah', 'Mary', 'Mosh']\n",
      "['John', 'Bob', 'Sarah', 'Mary', 'Mosh']\n",
      "['Bob', 'Sarah', 'Mary', 'Mosh']\n",
      "['Bob', 'Sarah', 'Mary']\n",
      "['Mary']\n",
      "John\n",
      "BAB\n",
      "Mosh\n",
      "Mary\n"
     ]
    }
   ],
   "source": [
    "names = ['John', 'Bob', 'Sarah', 'Mary', 'Mosh']\n",
    "\n",
    "# [] this don't modify original list it returns new list\n",
    "print(\"👦 🧒 👧 👩 🧓 \")\n",
    "print(names)\n",
    "print(names[:])\n",
    "print(names[1:])\n",
    "print(names[1:4])\n",
    "print(names[-2:-1])\n",
    "\n",
    "print(names[0])\n",
    "names[1] = 'BAB'\n",
    "print(names[1])\n",
    "\n",
    "print(names[-1]) # First from last or end\n",
    "print(names[-2])"
   ]
  },
  {
   "cell_type": "code",
   "execution_count": 51,
   "metadata": {},
   "outputs": [
    {
     "name": "stdout",
     "output_type": "stream",
     "text": [
      "100\n",
      "1\n",
      "\n",
      "Second Method\n",
      "\n",
      "100\n"
     ]
    }
   ],
   "source": [
    "# WAP to find the largest number in a list.\n",
    "numbers = [79, 28, 100, 1, 5]\n",
    "print(max(number))\n",
    "print(min(number))\n",
    "#print(sort(number))\n",
    "\n",
    "print('''\n",
    "Second Method\n",
    "''')\n",
    "max_num = number[0]\n",
    "for num in number:\n",
    "    if num > max_num:\n",
    "        max_num = num\n",
    "\n",
    "print(max_num)"
   ]
  },
  {
   "cell_type": "markdown",
   "metadata": {},
   "source": [
    "# 2D Lists: matrix- A rectangular array\n",
    "Each item in the 2D list is another list."
   ]
  },
  {
   "cell_type": "code",
   "execution_count": 11,
   "metadata": {},
   "outputs": [
    {
     "name": "stdout",
     "output_type": "stream",
     "text": [
      "1\n",
      "2\n",
      "3\n",
      "4\n",
      "5\n",
      "6\n",
      "7\n",
      "8\n",
      "9\n",
      "3\n"
     ]
    }
   ],
   "source": [
    "matrix = [\n",
    "          [1, 2, 3],\n",
    "          [4, 5, 6],\n",
    "          [7, 8, 9]\n",
    "]\n",
    "''' Second Method\n",
    "for x in range(3):\n",
    "    for y in range(3):\n",
    "        print(matrix[x][y])\n",
    "   '''     \n",
    "for row in matrix:\n",
    "    for item in row:\n",
    "        print(item)\n",
    "        \n",
    "#matrix[0][2] = 20\n",
    "print(matrix[0][2])"
   ]
  },
  {
   "cell_type": "markdown",
   "metadata": {},
   "source": [
    "# List Method or Functions:"
   ]
  },
  {
   "cell_type": "code",
   "execution_count": 26,
   "metadata": {},
   "outputs": [
    {
     "name": "stdout",
     "output_type": "stream",
     "text": [
      "[5, 2, 1, 7, 4, 10]\n",
      "[20, 5, 2, 1, 7, 4, 10]\n",
      "[5, 2, 1, 7, 4, 10]\n",
      "[5, 2, 1, 7, 4]\n",
      "0\n",
      "3\n",
      "True\n",
      "False\n",
      "[1, 2, 4, 5, 7]\n",
      "[7, 5, 4, 2, 1]\n",
      "[7, 5, 4, 2, 1, 10]\n",
      "3\n",
      "2\n",
      "[]\n"
     ]
    }
   ],
   "source": [
    "numbers = [5, 2, 1, 7, 4]\n",
    "\n",
    "# To Add values in a list append(value)- it adds the value at the end of list\n",
    "numbers.append(10)\n",
    "print(numbers)\n",
    "\n",
    "#insert(index, value)- it inserts the value at specific index in a list.\n",
    "numbers.insert(0, 20)\n",
    "print(numbers)\n",
    "\n",
    "#remove(5)- it removes the value passed in a argument\n",
    "numbers.remove(20)\n",
    "print(numbers)\n",
    "\n",
    "#pop() - it removes thhe last value in a list\n",
    "numbers.pop()\n",
    "print(numbers)\n",
    "\n",
    "#index(value) - To check the existance of value & it will return us the index of that value\n",
    "print(numbers.index(5))\n",
    "print(numbers.index(7))\n",
    "\n",
    "# we can use *in* for checking existance\n",
    "print(5 in numbers)\n",
    "print(50 in numbers)\n",
    "\n",
    "#sort() - To sort the given list it does not returns anything it just sorts\n",
    "numbers.sort()\n",
    "print(numbers)\n",
    "\n",
    "#reverse()- To reverse the list\n",
    "numbers.reverse()\n",
    "print(numbers)\n",
    "\n",
    "#copy() - it makes the copy of original list\n",
    "numbers2 = numbers.copy()\n",
    "numbers2.append(10)\n",
    "print(numbers2)\n",
    "\n",
    "# count(value)-To see how many times the paarticular nuber is repeated\n",
    "numbers = [5, 2, 1, 7, 5, 5, 7, 4]\n",
    "print(numbers.count(5))\n",
    "print(numbers.count(7))\n",
    "\n",
    "#clear()- it removes all the values in a list\n",
    "numbers.clear()\n",
    "print(numbers)"
   ]
  },
  {
   "cell_type": "markdown",
   "metadata": {},
   "source": [
    "# Question:\n",
    "WAP to remove the duplicates in a list."
   ]
  },
  {
   "cell_type": "code",
   "execution_count": 30,
   "metadata": {},
   "outputs": [
    {
     "name": "stdout",
     "output_type": "stream",
     "text": [
      "[5, 2, 1, 7, 4]\n",
      "[1, 2, 4, 5, 7]\n"
     ]
    }
   ],
   "source": [
    "numbers = [5, 2, 1, 7, 5, 5, 7, 4]\n",
    "uniques = []\n",
    "for num in numbers:\n",
    "    if num not in uniques:\n",
    "        uniques.append(num)\n",
    "print(uniques)\n",
    "uniques.sort()\n",
    "print(uniques)"
   ]
  },
  {
   "cell_type": "markdown",
   "metadata": {},
   "source": [
    "# Tuples e.g. num(): They are immutables.\n",
    "Unlike lists We can't modify it,remove values.\n",
    "count(),index()"
   ]
  },
  {
   "cell_type": "code",
   "execution_count": 34,
   "metadata": {},
   "outputs": [
    {
     "name": "stdout",
     "output_type": "stream",
     "text": [
      "1\n"
     ]
    }
   ],
   "source": [
    "numbers = (1, 2, 3)\n",
    "# numbers = 10 --> we can't do this in tuple\n",
    "print(numbers[0])"
   ]
  },
  {
   "cell_type": "markdown",
   "metadata": {},
   "source": [
    "# Unpacking:"
   ]
  },
  {
   "cell_type": "code",
   "execution_count": 36,
   "metadata": {},
   "outputs": [
    {
     "name": "stdout",
     "output_type": "stream",
     "text": [
      "6\n",
      "1\n",
      "2\n",
      "3\n"
     ]
    }
   ],
   "source": [
    "coordinates = (1, 2, 3)\n",
    "'''\n",
    "coordinates[0] * coordinates[1] * coordinates[2]\n",
    "we can do this by \n",
    "x = coordinates[0]\n",
    "y = coordinates[1]\n",
    "z = coordinates[2]\n",
    "\n",
    "Above assigning can be done by cocept called Unpacking.\n",
    "you can also use this for lists too. \n",
    "x, y, z = coordinates\n",
    "'''\n",
    "x, y, z = coordinates\n",
    "print(x*y*z)\n",
    "print(x)\n",
    "print(y)\n",
    "print(z)"
   ]
  },
  {
   "cell_type": "markdown",
   "metadata": {},
   "source": [
    "# Dictionaries has key value pairs.\n",
    "We use { } braces.\n",
    "\n",
    "Keys Should be unique\n",
    "\n",
    "value can be anything list,string,boolean,number"
   ]
  },
  {
   "cell_type": "code",
   "execution_count": 41,
   "metadata": {},
   "outputs": [
    {
     "name": "stdout",
     "output_type": "stream",
     "text": [
      "John Smith\n",
      "Jack Smith\n",
      "7 Sep 2000\n"
     ]
    }
   ],
   "source": [
    "'''\n",
    "Customer has\n",
    "Name: John Smith, Email: john@gmail.com, phone:123456789\n",
    "\n",
    "keys = Name,Email,phone\n",
    "values = John Smith,john@gmail.com,123456789\n",
    "'''\n",
    "customer = {\n",
    "    'name': 'John Smith',\n",
    "    'age': 30,\n",
    "    'is_verified': True\n",
    "}\n",
    "print(customer[\"name\"]) \n",
    "'''\n",
    "We must call the exact same key name there should\n",
    "not case sensitive can't pass the Name,NAME\n",
    "'''\n",
    "\n",
    "'''We can update the values'''\n",
    "customer['name'] = \"Jack Smith\"\n",
    "print(customer['name'])\n",
    "print(customer.get(\"birthdate\", '7 Sep 2000'))"
   ]
  },
  {
   "cell_type": "markdown",
   "metadata": {},
   "source": [
    "# Question:\n",
    "Output should be 1234 = one two three four"
   ]
  },
  {
   "cell_type": "code",
   "execution_count": 5,
   "metadata": {},
   "outputs": [
    {
     "name": "stdout",
     "output_type": "stream",
     "text": [
      "Phone: 1234567895\n",
      "One Two Three Four Five Six Seven Eight Nine Five \n"
     ]
    }
   ],
   "source": [
    "phone = input(\"Phone: \")\n",
    "digitsMapping = {\n",
    "    \"0\": \"Zero\", \"1\": \"One\", \"2\": \"Two\", \"3\": \"Three\", \"4\": \"Four\", \"5\":\"Five\",\n",
    "    \"6\": \"Six\", \"7\": \"Seven\", \"8\":\"Eight\", \"9\":\"Nine\", \"10\": \"Ten\"\n",
    "}\n",
    "\n",
    "output = \"\"\n",
    "for ch in phone:\n",
    "    output += digitsMapping.get(ch, \"!\") + \" \"\n",
    "print(output)"
   ]
  },
  {
   "cell_type": "markdown",
   "metadata": {},
   "source": [
    "# Emoji Converter:"
   ]
  },
  {
   "cell_type": "code",
   "execution_count": 11,
   "metadata": {},
   "outputs": [
    {
     "name": "stdout",
     "output_type": "stream",
     "text": [
      ">Good Morning Sunshine :)\n",
      "['Good', 'Morning', 'Sunshine', ':)']\n",
      " Good Morning Sunshine 😊 \n"
     ]
    }
   ],
   "source": [
    "message = input(\">\")\n",
    "words = message.split(' ') #split() - it splits the given string.\n",
    "print(words)\n",
    "\n",
    "emojis = {\n",
    "    \":)\": \"😊\",\n",
    "    \":(\": \"😒\"\n",
    "}\n",
    "\n",
    "output = \" \"\n",
    "for word in words:\n",
    "    output += emojis.get(word, word) + \" \"\n",
    "print(output)"
   ]
  },
  {
   "cell_type": "markdown",
   "metadata": {},
   "source": [
    "# Functions:\n",
    "def functionName:"
   ]
  },
  {
   "cell_type": "code",
   "execution_count": 6,
   "metadata": {},
   "outputs": [
    {
     "name": "stdout",
     "output_type": "stream",
     "text": [
      "Start\n",
      "Hi Johnny Deep!\n",
      "Welcome aboard\n",
      "Hi Marry Francis!\n",
      "Welcome aboard\n",
      "Finish\n"
     ]
    }
   ],
   "source": [
    "def greetUser(firstName, lastName):\n",
    "    ''' # Function defination, name- parameter'''\n",
    "    print(f\"Hi {firstName} {lastName}!\")\n",
    "    print(\"Welcome aboard\")\n",
    "    \n",
    "\n",
    "# parameter - Like print() Takes message as a parameter    \n",
    "print(\"Start\")\n",
    "\n",
    "\n",
    "#positional argument\n",
    "\n",
    "\n",
    "greetUser(\"Johnny\", \"Deep\") # Function Call\n",
    "greetUser(\"Marry\", \"Francis\") # Marry - Argument\n",
    "print(\"Finish\")\n",
    "\n",
    "'''In positional argument order matters like if you pass 2\n",
    "parameters\n",
    "and give 1 argument then you will get positional error\n",
    "for e.g. if you pass greetUser(\"smith\", \"john\")\n",
    "then also it will print'''"
   ]
  },
  {
   "cell_type": "markdown",
   "metadata": {},
   "source": [
    "# Keyword Arguments: Order don't matters.\n",
    "'''This can be helpful in function where it has many \n",
    "numerical values.\n",
    "for most of the time use positional argument.'''\n",
    "\n",
    "Keyword arguments should always come after positional arguument\n",
    "\n",
    "greetUser(\"Smith\", firstName=\"John\")- VALID\n",
    "\n",
    "greetUser(lastName=\"Smith\", \"John\") - INVALID"
   ]
  },
  {
   "cell_type": "code",
   "execution_count": 3,
   "metadata": {},
   "outputs": [
    {
     "name": "stdout",
     "output_type": "stream",
     "text": [
      "Hi John Smith!\n",
      "Welcome aboard\n"
     ]
    }
   ],
   "source": [
    "def greetUser(firstName, lastName):# Function defination, name - parameter\n",
    "    print(f\"Hi {firstName} {lastName}!\")\n",
    "    print(\"Welcome aboard\")\n",
    "\n",
    "    \n",
    "greetUser(lastName=\"Smith\", firstName=\"John\") # This is callled Keyword argument\n"
   ]
  },
  {
   "cell_type": "markdown",
   "metadata": {},
   "source": [
    "# Return Statement:\n",
    "All Functions in python returns \"None\" we can overwrite by using \"return\""
   ]
  },
  {
   "cell_type": "code",
   "execution_count": 4,
   "metadata": {},
   "outputs": [
    {
     "name": "stdout",
     "output_type": "stream",
     "text": [
      "5625\n"
     ]
    }
   ],
   "source": [
    "def square(number):\n",
    "    return number * number\n",
    "\n",
    "\n",
    "print(square(75))"
   ]
  },
  {
   "cell_type": "markdown",
   "metadata": {},
   "source": [
    "# Creating a Reusable Function:"
   ]
  },
  {
   "cell_type": "code",
   "execution_count": 7,
   "metadata": {},
   "outputs": [
    {
     "name": "stdout",
     "output_type": "stream",
     "text": [
      ">Good morning Sunshine :)\n",
      "['Good', 'morning', 'Sunshine', ':)']\n",
      " Good morning Sunshine 😊 \n"
     ]
    }
   ],
   "source": [
    "def emojiConverter(message):\n",
    "    words = message.split(' ') #split() - it splits the given string.\n",
    "    print(words)\n",
    "\n",
    "    emojis = {\n",
    "        \":)\": \"😊\",\n",
    "        \":(\": \"😒\"\n",
    "    }\n",
    "\n",
    "    output = \" \"\n",
    "    for word in words:\n",
    "        output += emojis.get(word, word) + \" \"    \n",
    "    return output\n",
    "        \n",
    "        \n",
    "message = input(\">\")\n",
    "print(emojiConverter(message))"
   ]
  },
  {
   "cell_type": "markdown",
   "metadata": {},
   "source": [
    "# Exceptions:"
   ]
  },
  {
   "cell_type": "code",
   "execution_count": 16,
   "metadata": {},
   "outputs": [
    {
     "name": "stdout",
     "output_type": "stream",
     "text": [
      "Age: 0\n",
      "Age cannot be zero.\n"
     ]
    },
    {
     "data": {
      "text/plain": [
       "'\\nAge: elon\\n-----------------------------------------------------------------\\nValueError          Traceback (most recent call last)\\n<ipython-input-9-b4bb6d4a9f56> in <module>\\n----> 1 age = int(input(\"Age: \"))\\n      2 print(age)\\n\\nValueError: invalid literal for int() with base 10: \\'elon\\'\\n'"
      ]
     },
     "execution_count": 16,
     "metadata": {},
     "output_type": "execute_result"
    }
   ],
   "source": [
    "try:\n",
    "    age = int(input(\"Age: \"))\n",
    "    income = 50000\n",
    "    risk = income / age # age can't be zero\n",
    "    print(age)\n",
    "except ZeroDivisionError:\n",
    "    print('Age cannot be zero.')\n",
    "except ValueError:\n",
    "    print('Invalid Value')\n",
    "\n",
    "#To overcome this problem above code is wriiten\n",
    "'''\n",
    "Age: elon\n",
    "-----------------------------------------------------------------\n",
    "ValueError          Traceback (most recent call last)\n",
    "<ipython-input-9-b4bb6d4a9f56> in <module>\n",
    "----> 1 age = int(input(\"Age: \"))\n",
    "      2 print(age)\n",
    "\n",
    "ValueError: invalid literal for int() with base 10: 'elon'\n",
    "'''"
   ]
  },
  {
   "cell_type": "markdown",
   "metadata": {},
   "source": [
    "# Comments: \n",
    "# # Single line comment\n",
    "\n",
    "# '''Multiple Line comment '''"
   ]
  },
  {
   "cell_type": "code",
   "execution_count": 17,
   "metadata": {},
   "outputs": [
    {
     "name": "stdout",
     "output_type": "stream",
     "text": [
      "Sky is the limit\n"
     ]
    }
   ],
   "source": [
    "# Single line comment\n",
    "'''Multiple \n",
    "    Line \n",
    "    comment'''\n",
    "print('Sky is the limit')"
   ]
  },
  {
   "cell_type": "markdown",
   "metadata": {},
   "source": [
    "# Classes: Used to define new types.\n",
    "class ClassName:\n",
    "        \n",
    "        This can have methods inside in body of class\n",
    "        \n",
    "we can set attribute anywhere in or outside the class\n",
    "\n",
    "Class- Blueprint of a object\n",
    "\n",
    "Object - Instance of a class"
   ]
  },
  {
   "cell_type": "code",
   "execution_count": 27,
   "metadata": {},
   "outputs": [
    {
     "name": "stdout",
     "output_type": "stream",
     "text": [
      "10\n",
      "draw\n"
     ]
    }
   ],
   "source": [
    "class Point:\n",
    "    '''This are methods'''\n",
    "    def move(self):\n",
    "        print(\"move\")\n",
    "        \n",
    "    def draw(self):\n",
    "        print(\"draw\")\n",
    "        \n",
    "        \n",
    "point1 = Point() '''Creates new object of a class and returns\n",
    "while creating we must use () paranthesis'''\n",
    "# Settimg attributes'''\n",
    "\n",
    "point1.x = 10\n",
    "point1.y = 20\n",
    "print(point1.x)\n",
    "point1.draw()    # Accessing the methods"
   ]
  },
  {
   "cell_type": "markdown",
   "metadata": {},
   "source": [
    "# Constructors:\n",
    " It is a function called at the time of creating an object."
   ]
  },
  {
   "cell_type": "code",
   "execution_count": 28,
   "metadata": {},
   "outputs": [
    {
     "name": "stdout",
     "output_type": "stream",
     "text": [
      "11\n",
      "20\n"
     ]
    }
   ],
   "source": [
    "class Point:\n",
    "    \n",
    "    '''These is the default method will always called while \n",
    "    creating an objects '''\n",
    "    \n",
    "    def __init__(self, x, y): #constructor-used to construct object\n",
    "        \n",
    "        '''self is the reference to current object when we \n",
    "        create a new point object self references that object\n",
    "        in memory'''\n",
    "        \n",
    "        self.x = x # initialisation\n",
    "        self.y = y\n",
    "        \n",
    "    def move(self):\n",
    "        print('move')\n",
    "        \n",
    "    def draw(self):\n",
    "        print('draw')\n",
    "        \n",
    "'''doubleUnderscore-init(initialisation)-\n",
    "doubleUnderscore will be called on this step'''\n",
    "       \n",
    "point = Point(10, 20) # constructor will be called at this step\n",
    "\n",
    "point.x = 11 # We can update values\n",
    "point.x\n",
    "point.y\n",
    "print(point.x)\n",
    "print(point.y)\n",
    "\n"
   ]
  },
  {
   "cell_type": "markdown",
   "metadata": {},
   "source": [
    "# Challenge:\n",
    "Person -type,  name - attribute,  talk()- method\n"
   ]
  },
  {
   "cell_type": "code",
   "execution_count": 36,
   "metadata": {},
   "outputs": [
    {
     "name": "stdout",
     "output_type": "stream",
     "text": [
      "Hi, I am Chris Gayle\n",
      "Hi, I am Bob Smith\n"
     ]
    }
   ],
   "source": [
    "class Person:\n",
    "    def __init__(self, name):\n",
    "        self.name = name\n",
    "        \n",
    "        \n",
    "    def talk(self):\n",
    "        print(f\"Hi, I am {self.name}\")\n",
    "        \n",
    "        \n",
    "personName = Person('Chris Gayle')\n",
    "personName.talk()\n",
    "bob = Person(\"Bob Smith\")\n",
    "bob.talk()\n",
    "#print(personName.name)"
   ]
  },
  {
   "cell_type": "markdown",
   "metadata": {},
   "source": [
    "# Inheritance: Mechanism for reusing code"
   ]
  },
  {
   "cell_type": "code",
   "execution_count": 40,
   "metadata": {},
   "outputs": [
    {
     "name": "stdout",
     "output_type": "stream",
     "text": [
      "walk\n",
      "bark\n",
      "walk\n",
      "annoying\n"
     ]
    }
   ],
   "source": [
    "class Mammal:\n",
    "    def walk(self):\n",
    "        print(\"walk\")\n",
    "        \n",
    "        \n",
    "class Dog(Mammal): #Dog(parent class)\n",
    "    #pass     # To avoid empty class\n",
    "     def bark(self):\n",
    "            print(\"bark\")\n",
    "\n",
    "class Cat(Mammal):\n",
    "    #pass\n",
    "    def be_annoying(self):\n",
    "        print(\"annoying\")\n",
    "\n",
    "dog1 = Dog()\n",
    "dog1.walk()\n",
    "dog1.bark()\n",
    "cat1 = Cat()\n",
    "cat1.walk()\n",
    "cat1.be_annoying()"
   ]
  },
  {
   "cell_type": "markdown",
   "metadata": {},
   "source": [
    "# Module:\n",
    "- Module in python is called file with python code.\n",
    "- Used to organize code.\n",
    "- For e.g. Sections in supermarket."
   ]
  },
  {
   "cell_type": "markdown",
   "metadata": {},
   "source": [
    "- Files of this section are done on VS code and saved in my_progrmming files\n",
    "\n",
    "- Filenames are app.py & utils.py"
   ]
  },
  {
   "cell_type": "markdown",
   "metadata": {},
   "source": [
    "# Packages:\n",
    "- Another way to organize our files & it contains ,multiple modules in it.\n",
    "\n",
    "- Lets take a Shopping Mall as a example\n",
    "\n",
    " Package= Mens       womens           kids\n",
    "\n",
    "Mens- Shoes clothes = Modules\n",
    "\n",
    "- Files of this section are done on VS code and saved in my_progrmming files\n",
    "\n",
    "- Filenames are abc.py & shopping.py under eccomerce & python package."
   ]
  },
  {
   "cell_type": "markdown",
   "metadata": {},
   "source": [
    "# Generating Random Values:\n",
    "- There are several modules for sending emails and lot more things.\n",
    "- We are gonna use built in module to generate random values."
   ]
  },
  {
   "cell_type": "code",
   "execution_count": 2,
   "metadata": {},
   "outputs": [
    {
     "name": "stdout",
     "output_type": "stream",
     "text": [
      "0.7608876631719662\n",
      "0.5370015706261086\n",
      "0.007512105643019962\n"
     ]
    }
   ],
   "source": [
    "import random\n",
    "\n",
    "for i in range(3):\n",
    "    # This will print the random values between 0 & 1\n",
    "    print(random.random())\n",
    "    \n"
   ]
  },
  {
   "cell_type": "code",
   "execution_count": 5,
   "metadata": {},
   "outputs": [
    {
     "name": "stdout",
     "output_type": "stream",
     "text": [
      "10\n",
      "37\n",
      "25\n",
      "20\n",
      "26\n",
      "19\n",
      "26\n",
      "11\n",
      "20\n",
      "40\n"
     ]
    }
   ],
   "source": [
    "#randint()-To print values in between specific range\n",
    "\n",
    "for i in range(10):\n",
    "    print(random.randint(10, 50))"
   ]
  },
  {
   "cell_type": "code",
   "execution_count": 15,
   "metadata": {},
   "outputs": [
    {
     "name": "stdout",
     "output_type": "stream",
     "text": [
      "Mosh\n"
     ]
    }
   ],
   "source": [
    "# choice()-To pickup random values\n",
    "\n",
    "members = ['John', 'Mary', 'Bob', 'Mosh']\n",
    "leader = random.choice(members)\n",
    "print(leader)"
   ]
  },
  {
   "cell_type": "markdown",
   "metadata": {},
   "source": [
    "# Que:\n",
    "To generate pair of dice(1, 1)."
   ]
  },
  {
   "cell_type": "code",
   "execution_count": 15,
   "metadata": {},
   "outputs": [
    {
     "name": "stdout",
     "output_type": "stream",
     "text": [
      "(4, 6)\n",
      "(6, 6)\n"
     ]
    }
   ],
   "source": [
    "for i in range(1):\n",
    "    x = random.randint(1, 6)\n",
    "    y = random.randint(1, 6)\n",
    "    print(f\"{(x, y)}\")\n",
    "    \n",
    "    \n",
    "# SECOND METHOD\n",
    "import random\n",
    "\n",
    "class Dice:\n",
    "    # Function definition\n",
    "    def roll(self):\n",
    "        first = random.randint(1, 6)\n",
    "        second = random.randint(1, 6)\n",
    "        return first, second #This will return us a tupple\n",
    "\n",
    "    \n",
    "dice = Dice()  # Creates object of a class\n",
    "print(dice.roll())\n",
    "    "
   ]
  },
  {
   "cell_type": "markdown",
   "metadata": {},
   "source": [
    "# Files and Directories:\n",
    "- modules for this\n",
    "\n",
    "- pathlib- Object oriented filesystem paths\n",
    "\n",
    "Path is a class.\n",
    "\n",
    "1. Absolute Path- Will start from root of our hardisk.\n",
    "\n",
    "    for e.g. C:\\Program Files\\Microsoft\n",
    "    \n",
    "\n",
    "2. Realative Path- Will start from current directory and go the another directory."
   ]
  },
  {
   "cell_type": "code",
   "execution_count": 32,
   "metadata": {},
   "outputs": [
    {
     "name": "stdout",
     "output_type": "stream",
     "text": [
      "True\n",
      "True\n",
      "<generator object Path.glob at 0x0000028F0F8F8648>\n",
      "<generator object Path.glob at 0x0000028F0F8F8648>\n",
      "<generator object Path.glob at 0x0000028F0F8F8648>\n",
      "<generator object Path.glob at 0x0000028F0F8F8648>\n"
     ]
    }
   ],
   "source": [
    "from pathlib import Path\n",
    "\n",
    "path = Path(\"ecommerce\") # creates object\n",
    "# This will check \"ecommerce\" directory exist or not\n",
    "print(path.exists())\n",
    "#print(path.mkdir())\n",
    "\n",
    "# To make new directory \n",
    "path = Path(\"emails\")\n",
    "#print(path.mkdir())\n",
    "print(path.exists())\n",
    "\n",
    "# To delete directory\n",
    "#print(path.rmdir())\n",
    "\n",
    "# With this we can search for or find any files or directory\n",
    "path = Path()  # Current path\n",
    "print(path.glob('*')) # it will search for all the content\n",
    "print(path.glob('*.*')) # it will only search for files not directory\n",
    "print(path.glob('*.py')) # will search for python files\n",
    "print(path.glob('*.xls'))  # will search for excel files\n"
   ]
  },
  {
   "cell_type": "code",
   "execution_count": 43,
   "metadata": {},
   "outputs": [
    {
     "name": "stdout",
     "output_type": "stream",
     "text": [
      ".ipynb\n",
      ".ipynb_checkpoints\n",
      "adde-Copy1.ipynb\n",
      "adde.ipynb\n",
      "app.ipynb\n",
      "converters.ipynb\n",
      "ecommerce\n",
      "emails\n",
      "Untitled.ipynb\n",
      ".ipynb\n",
      "adde-Copy1.ipynb\n",
      "adde.ipynb\n",
      "app.ipynb\n",
      "converters.ipynb\n",
      "Untitled.ipynb\n"
     ]
    }
   ],
   "source": [
    "'''Generator object is a advanced concept but for now we must know \n",
    "that we can iterate over this generator object.'''\n",
    "from pathlib import Path\n",
    "\n",
    "\n",
    "path = Path()\n",
    "for file in path.glob('*'):\n",
    "     print(file)\n",
    "    \n",
    "for file in path.glob('*.ipynb'):\n",
    "    print(file)"
   ]
  },
  {
   "cell_type": "markdown",
   "metadata": {},
   "source": [
    "# PyPI and Pip (Huh?):\n",
    "It is a Directory and it will contain thousands of packages.\n",
    "\n",
    "1. sms -like for sending text messages search sms and it will give us many packages.\n",
    "2. openpyxl - package for working with excel files \n",
    "\n",
    "for more info. visit https://pypi.org"
   ]
  },
  {
   "cell_type": "markdown",
   "metadata": {},
   "source": [
    " # Project - Excel Spreadsheets: \n",
    " By  Automatting Python code will Process thousands of xls files in one second."
   ]
  },
  {
   "cell_type": "code",
   "execution_count": 16,
   "metadata": {},
   "outputs": [
    {
     "name": "stdout",
     "output_type": "stream",
     "text": [
      "transaction_id\n",
      "4\n"
     ]
    }
   ],
   "source": [
    "import openpyxl as xl\n",
    "\n",
    "from openpyxl.chart import BarChart, Reference\n",
    "\n",
    "wb = xl.load_workbook('transactions.xlsx')\n",
    "sheet = wb['Sheet1']\n",
    "cell = sheet['a1']\n",
    "cell = sheet.cell(1,1)\n",
    "print(cell.value)\n",
    "print(sheet.max_row)\n",
    "\n",
    "for row in range(2, sheet.max_row + 1):\n",
    "    cell = sheet.cell(row,3)\n",
    "    corrected_price = cell.value * 0.9\n",
    "    \n",
    "    # To add new cell and returns object\n",
    "    corrected_price_cell = sheet.cell(row,4)\n",
    "    corrected_price_cell.value = corrected_price\n",
    "\n",
    "    \n",
    "values = Reference(sheet, \n",
    "        min_row=2,\n",
    "        max_row=sheet.max_row,\n",
    "        min_col=4,\n",
    "        max_col=4) \n",
    "\n",
    "chart = BarChart()\n",
    "chart.add_data(values)\n",
    "sheet.add_chart(chart, 'e2')\n",
    "\n",
    "# To save new file as copy\n",
    "wb.save('transactions.xlsx')"
   ]
  },
  {
   "cell_type": "code",
   "execution_count": 3,
   "metadata": {
    "collapsed": true
   },
   "outputs": [
    {
     "ename": "NameError",
     "evalue": "name 'transactions1' is not defined",
     "output_type": "error",
     "traceback": [
      "\u001b[1;31m---------------------------------------------------------------------------\u001b[0m",
      "\u001b[1;31mNameError\u001b[0m                                 Traceback (most recent call last)",
      "\u001b[1;32m<ipython-input-3-98b283b262dd>\u001b[0m in \u001b[0;36m<module>\u001b[1;34m\u001b[0m\n\u001b[0;32m     42\u001b[0m     \u001b[0mwb\u001b[0m\u001b[1;33m.\u001b[0m\u001b[0msave\u001b[0m\u001b[1;33m(\u001b[0m\u001b[0mfilename\u001b[0m\u001b[1;33m)\u001b[0m\u001b[1;33m\u001b[0m\u001b[1;33m\u001b[0m\u001b[0m\n\u001b[0;32m     43\u001b[0m \u001b[1;33m\u001b[0m\u001b[0m\n\u001b[1;32m---> 44\u001b[1;33m \u001b[0mprocess_workbook\u001b[0m\u001b[1;33m(\u001b[0m\u001b[0mtransactions1\u001b[0m\u001b[1;33m.\u001b[0m\u001b[0mxlsx\u001b[0m\u001b[1;33m)\u001b[0m\u001b[1;33m\u001b[0m\u001b[1;33m\u001b[0m\u001b[0m\n\u001b[0m",
      "\u001b[1;31mNameError\u001b[0m: name 'transactions1' is not defined"
     ]
    }
   ],
   "source": [
    "import openpyxl as xl\n",
    "\n",
    "#To add Chart\n",
    "\n",
    "#    package.module import class\n",
    "from openpyxl.chart import BarChart, Reference\n",
    "\n",
    "\n",
    "# cell = sheet['a1']\n",
    "# # cell = sheet.cell(1, 1)\n",
    "# # print(cell.value)\n",
    "\n",
    "# #To know how many rows in the file\n",
    "# print(sheet.max_row)\n",
    "\n",
    "# for row in range(1, sheet.max_row + 1):\n",
    "#     print(row)\n",
    "\n",
    "def process_workbook(filename):\n",
    "    wb = xl.load_workbook(filename)\n",
    "    sheet = wb['Sheet1']\n",
    "\n",
    "\n",
    "    for row in range(2, sheet.max_row + 1):\n",
    "        cell = sheet.cell(row, 3)\n",
    "        corrected_price = cell.value * 0.9\n",
    "\n",
    "        #To add new column in Excel\n",
    "        corrected_price_cell = sheet.cell(row, 4)\n",
    "        corrected_price_cell.value = corrected_price\n",
    "\n",
    "values = Reference(sheet, \n",
    "        min_row=2,\n",
    "        max_row=sheet.max_row,\n",
    "        min_col=4,\n",
    "        max_col=4) \n",
    "\n",
    "chart = BarChart()\n",
    "chart.add_data(values)\n",
    "sheet.add_chart(chart, 'e2')\n",
    "\n",
    "\n",
    "wb.save(filename)\n",
    "\n",
    "process_workbook(transactions1.xlsx)\n"
   ]
  },
  {
   "cell_type": "markdown",
   "metadata": {},
   "source": [
    "# What is Machine learning?\n",
    "- Subset of AI it can helpful in\n",
    "- Self Driving Cars\n",
    "- Robotics\n",
    "- Language Processing\n",
    "- Vision Processing\n",
    "- Forecasting Stock Market Trends"
   ]
  },
  {
   "cell_type": "markdown",
   "metadata": {},
   "source": [
    "### ML in action: \n",
    "Steps:\n",
    "- Import the Data(Data will be in CSV format)\n",
    "- Clean the Data( Convert the data in Binary form)\n",
    "- Split the Data into Training /Test sets\n",
    "- Create  a Model(Involves selecting an algorithms i.e. Decision tree,Neural network to analyze data)\n",
    "- Train the model\n",
    "- Make Predictions \n",
    "- Evaluate and Improve "
   ]
  },
  {
   "cell_type": "markdown",
   "metadata": {},
   "source": [
    "# Libraries  and Tools:\n",
    "## Libraries:\n",
    "- Numpy - Provides Multidimensional array.\n",
    "- Pandas - Data analysis library which provides concept called Dataframe(2D Data Structure like Excel Spreadsheet).\n",
    "- MatPlotLib - 2D plotting library used to create graphs on plot.\n",
    "- Scikit - Learn - Provides common algorithms."
   ]
  },
  {
   "cell_type": "markdown",
   "metadata": {},
   "source": [
    "# Importing a Data Set:\n",
    "How to load data from CSV files?"
   ]
  },
  {
   "cell_type": "code",
   "execution_count": 5,
   "metadata": {},
   "outputs": [
    {
     "data": {
      "text/plain": [
       "(16598, 11)"
      ]
     },
     "execution_count": 5,
     "metadata": {},
     "output_type": "execute_result"
    }
   ],
   "source": [
    "import pandas as pd\n",
    "df = pd.read_csv('vgsales.csv')\n",
    "df.shape # It gives us a no. of rows and columns in dataset "
   ]
  },
  {
   "cell_type": "code",
   "execution_count": 6,
   "metadata": {},
   "outputs": [
    {
     "data": {
      "text/html": [
       "<div>\n",
       "<style scoped>\n",
       "    .dataframe tbody tr th:only-of-type {\n",
       "        vertical-align: middle;\n",
       "    }\n",
       "\n",
       "    .dataframe tbody tr th {\n",
       "        vertical-align: top;\n",
       "    }\n",
       "\n",
       "    .dataframe thead th {\n",
       "        text-align: right;\n",
       "    }\n",
       "</style>\n",
       "<table border=\"1\" class=\"dataframe\">\n",
       "  <thead>\n",
       "    <tr style=\"text-align: right;\">\n",
       "      <th></th>\n",
       "      <th>Rank</th>\n",
       "      <th>Year</th>\n",
       "      <th>NA_Sales</th>\n",
       "      <th>EU_Sales</th>\n",
       "      <th>JP_Sales</th>\n",
       "      <th>Other_Sales</th>\n",
       "      <th>Global_Sales</th>\n",
       "    </tr>\n",
       "  </thead>\n",
       "  <tbody>\n",
       "    <tr>\n",
       "      <th>count</th>\n",
       "      <td>16598.000000</td>\n",
       "      <td>16327.000000</td>\n",
       "      <td>16598.000000</td>\n",
       "      <td>16598.000000</td>\n",
       "      <td>16598.000000</td>\n",
       "      <td>16598.000000</td>\n",
       "      <td>16598.000000</td>\n",
       "    </tr>\n",
       "    <tr>\n",
       "      <th>mean</th>\n",
       "      <td>8300.605254</td>\n",
       "      <td>2006.406443</td>\n",
       "      <td>0.264667</td>\n",
       "      <td>0.146652</td>\n",
       "      <td>0.077782</td>\n",
       "      <td>0.048063</td>\n",
       "      <td>0.537441</td>\n",
       "    </tr>\n",
       "    <tr>\n",
       "      <th>std</th>\n",
       "      <td>4791.853933</td>\n",
       "      <td>5.828981</td>\n",
       "      <td>0.816683</td>\n",
       "      <td>0.505351</td>\n",
       "      <td>0.309291</td>\n",
       "      <td>0.188588</td>\n",
       "      <td>1.555028</td>\n",
       "    </tr>\n",
       "    <tr>\n",
       "      <th>min</th>\n",
       "      <td>1.000000</td>\n",
       "      <td>1980.000000</td>\n",
       "      <td>0.000000</td>\n",
       "      <td>0.000000</td>\n",
       "      <td>0.000000</td>\n",
       "      <td>0.000000</td>\n",
       "      <td>0.010000</td>\n",
       "    </tr>\n",
       "    <tr>\n",
       "      <th>25%</th>\n",
       "      <td>4151.250000</td>\n",
       "      <td>2003.000000</td>\n",
       "      <td>0.000000</td>\n",
       "      <td>0.000000</td>\n",
       "      <td>0.000000</td>\n",
       "      <td>0.000000</td>\n",
       "      <td>0.060000</td>\n",
       "    </tr>\n",
       "    <tr>\n",
       "      <th>50%</th>\n",
       "      <td>8300.500000</td>\n",
       "      <td>2007.000000</td>\n",
       "      <td>0.080000</td>\n",
       "      <td>0.020000</td>\n",
       "      <td>0.000000</td>\n",
       "      <td>0.010000</td>\n",
       "      <td>0.170000</td>\n",
       "    </tr>\n",
       "    <tr>\n",
       "      <th>75%</th>\n",
       "      <td>12449.750000</td>\n",
       "      <td>2010.000000</td>\n",
       "      <td>0.240000</td>\n",
       "      <td>0.110000</td>\n",
       "      <td>0.040000</td>\n",
       "      <td>0.040000</td>\n",
       "      <td>0.470000</td>\n",
       "    </tr>\n",
       "    <tr>\n",
       "      <th>max</th>\n",
       "      <td>16600.000000</td>\n",
       "      <td>2020.000000</td>\n",
       "      <td>41.490000</td>\n",
       "      <td>29.020000</td>\n",
       "      <td>10.220000</td>\n",
       "      <td>10.570000</td>\n",
       "      <td>82.740000</td>\n",
       "    </tr>\n",
       "  </tbody>\n",
       "</table>\n",
       "</div>"
      ],
      "text/plain": [
       "               Rank          Year      NA_Sales      EU_Sales      JP_Sales  \\\n",
       "count  16598.000000  16327.000000  16598.000000  16598.000000  16598.000000   \n",
       "mean    8300.605254   2006.406443      0.264667      0.146652      0.077782   \n",
       "std     4791.853933      5.828981      0.816683      0.505351      0.309291   \n",
       "min        1.000000   1980.000000      0.000000      0.000000      0.000000   \n",
       "25%     4151.250000   2003.000000      0.000000      0.000000      0.000000   \n",
       "50%     8300.500000   2007.000000      0.080000      0.020000      0.000000   \n",
       "75%    12449.750000   2010.000000      0.240000      0.110000      0.040000   \n",
       "max    16600.000000   2020.000000     41.490000     29.020000     10.220000   \n",
       "\n",
       "        Other_Sales  Global_Sales  \n",
       "count  16598.000000  16598.000000  \n",
       "mean       0.048063      0.537441  \n",
       "std        0.188588      1.555028  \n",
       "min        0.000000      0.010000  \n",
       "25%        0.000000      0.060000  \n",
       "50%        0.010000      0.170000  \n",
       "75%        0.040000      0.470000  \n",
       "max       10.570000     82.740000  "
      ]
     },
     "execution_count": 6,
     "metadata": {},
     "output_type": "execute_result"
    }
   ],
   "source": [
    "df.describe()"
   ]
  },
  {
   "cell_type": "code",
   "execution_count": 8,
   "metadata": {
    "scrolled": false
   },
   "outputs": [
    {
     "data": {
      "text/plain": [
       "array([[1, 'Wii Sports', 'Wii', ..., 3.77, 8.46, 82.74],\n",
       "       [2, 'Super Mario Bros.', 'NES', ..., 6.81, 0.77, 40.24],\n",
       "       [3, 'Mario Kart Wii', 'Wii', ..., 3.79, 3.31, 35.82],\n",
       "       ...,\n",
       "       [16598, 'SCORE International Baja 1000: The Official Game', 'PS2',\n",
       "        ..., 0.0, 0.0, 0.01],\n",
       "       [16599, 'Know How 2', 'DS', ..., 0.0, 0.0, 0.01],\n",
       "       [16600, 'Spirits & Spells', 'GBA', ..., 0.0, 0.0, 0.01]],\n",
       "      dtype=object)"
      ]
     },
     "execution_count": 8,
     "metadata": {},
     "output_type": "execute_result"
    }
   ],
   "source": [
    "df.values"
   ]
  },
  {
   "cell_type": "code",
   "execution_count": 10,
   "metadata": {},
   "outputs": [
    {
     "data": {
      "text/html": [
       "<div>\n",
       "<style scoped>\n",
       "    .dataframe tbody tr th:only-of-type {\n",
       "        vertical-align: middle;\n",
       "    }\n",
       "\n",
       "    .dataframe tbody tr th {\n",
       "        vertical-align: top;\n",
       "    }\n",
       "\n",
       "    .dataframe thead th {\n",
       "        text-align: right;\n",
       "    }\n",
       "</style>\n",
       "<table border=\"1\" class=\"dataframe\">\n",
       "  <thead>\n",
       "    <tr style=\"text-align: right;\">\n",
       "      <th></th>\n",
       "      <th>Rank</th>\n",
       "      <th>Name</th>\n",
       "      <th>Platform</th>\n",
       "      <th>Year</th>\n",
       "      <th>Genre</th>\n",
       "      <th>Publisher</th>\n",
       "      <th>NA_Sales</th>\n",
       "      <th>EU_Sales</th>\n",
       "      <th>JP_Sales</th>\n",
       "      <th>Other_Sales</th>\n",
       "      <th>Global_Sales</th>\n",
       "    </tr>\n",
       "  </thead>\n",
       "  <tbody>\n",
       "    <tr>\n",
       "      <th>0</th>\n",
       "      <td>1</td>\n",
       "      <td>Wii Sports</td>\n",
       "      <td>Wii</td>\n",
       "      <td>2006.0</td>\n",
       "      <td>Sports</td>\n",
       "      <td>Nintendo</td>\n",
       "      <td>41.49</td>\n",
       "      <td>29.02</td>\n",
       "      <td>3.77</td>\n",
       "      <td>8.46</td>\n",
       "      <td>82.74</td>\n",
       "    </tr>\n",
       "    <tr>\n",
       "      <th>1</th>\n",
       "      <td>2</td>\n",
       "      <td>Super Mario Bros.</td>\n",
       "      <td>NES</td>\n",
       "      <td>1985.0</td>\n",
       "      <td>Platform</td>\n",
       "      <td>Nintendo</td>\n",
       "      <td>29.08</td>\n",
       "      <td>3.58</td>\n",
       "      <td>6.81</td>\n",
       "      <td>0.77</td>\n",
       "      <td>40.24</td>\n",
       "    </tr>\n",
       "    <tr>\n",
       "      <th>2</th>\n",
       "      <td>3</td>\n",
       "      <td>Mario Kart Wii</td>\n",
       "      <td>Wii</td>\n",
       "      <td>2008.0</td>\n",
       "      <td>Racing</td>\n",
       "      <td>Nintendo</td>\n",
       "      <td>15.85</td>\n",
       "      <td>12.88</td>\n",
       "      <td>3.79</td>\n",
       "      <td>3.31</td>\n",
       "      <td>35.82</td>\n",
       "    </tr>\n",
       "    <tr>\n",
       "      <th>3</th>\n",
       "      <td>4</td>\n",
       "      <td>Wii Sports Resort</td>\n",
       "      <td>Wii</td>\n",
       "      <td>2009.0</td>\n",
       "      <td>Sports</td>\n",
       "      <td>Nintendo</td>\n",
       "      <td>15.75</td>\n",
       "      <td>11.01</td>\n",
       "      <td>3.28</td>\n",
       "      <td>2.96</td>\n",
       "      <td>33.00</td>\n",
       "    </tr>\n",
       "    <tr>\n",
       "      <th>4</th>\n",
       "      <td>5</td>\n",
       "      <td>Pokemon Red/Pokemon Blue</td>\n",
       "      <td>GB</td>\n",
       "      <td>1996.0</td>\n",
       "      <td>Role-Playing</td>\n",
       "      <td>Nintendo</td>\n",
       "      <td>11.27</td>\n",
       "      <td>8.89</td>\n",
       "      <td>10.22</td>\n",
       "      <td>1.00</td>\n",
       "      <td>31.37</td>\n",
       "    </tr>\n",
       "    <tr>\n",
       "      <th>...</th>\n",
       "      <td>...</td>\n",
       "      <td>...</td>\n",
       "      <td>...</td>\n",
       "      <td>...</td>\n",
       "      <td>...</td>\n",
       "      <td>...</td>\n",
       "      <td>...</td>\n",
       "      <td>...</td>\n",
       "      <td>...</td>\n",
       "      <td>...</td>\n",
       "      <td>...</td>\n",
       "    </tr>\n",
       "    <tr>\n",
       "      <th>16593</th>\n",
       "      <td>16596</td>\n",
       "      <td>Woody Woodpecker in Crazy Castle 5</td>\n",
       "      <td>GBA</td>\n",
       "      <td>2002.0</td>\n",
       "      <td>Platform</td>\n",
       "      <td>Kemco</td>\n",
       "      <td>0.01</td>\n",
       "      <td>0.00</td>\n",
       "      <td>0.00</td>\n",
       "      <td>0.00</td>\n",
       "      <td>0.01</td>\n",
       "    </tr>\n",
       "    <tr>\n",
       "      <th>16594</th>\n",
       "      <td>16597</td>\n",
       "      <td>Men in Black II: Alien Escape</td>\n",
       "      <td>GC</td>\n",
       "      <td>2003.0</td>\n",
       "      <td>Shooter</td>\n",
       "      <td>Infogrames</td>\n",
       "      <td>0.01</td>\n",
       "      <td>0.00</td>\n",
       "      <td>0.00</td>\n",
       "      <td>0.00</td>\n",
       "      <td>0.01</td>\n",
       "    </tr>\n",
       "    <tr>\n",
       "      <th>16595</th>\n",
       "      <td>16598</td>\n",
       "      <td>SCORE International Baja 1000: The Official Game</td>\n",
       "      <td>PS2</td>\n",
       "      <td>2008.0</td>\n",
       "      <td>Racing</td>\n",
       "      <td>Activision</td>\n",
       "      <td>0.00</td>\n",
       "      <td>0.00</td>\n",
       "      <td>0.00</td>\n",
       "      <td>0.00</td>\n",
       "      <td>0.01</td>\n",
       "    </tr>\n",
       "    <tr>\n",
       "      <th>16596</th>\n",
       "      <td>16599</td>\n",
       "      <td>Know How 2</td>\n",
       "      <td>DS</td>\n",
       "      <td>2010.0</td>\n",
       "      <td>Puzzle</td>\n",
       "      <td>7G//AMES</td>\n",
       "      <td>0.00</td>\n",
       "      <td>0.01</td>\n",
       "      <td>0.00</td>\n",
       "      <td>0.00</td>\n",
       "      <td>0.01</td>\n",
       "    </tr>\n",
       "    <tr>\n",
       "      <th>16597</th>\n",
       "      <td>16600</td>\n",
       "      <td>Spirits &amp; Spells</td>\n",
       "      <td>GBA</td>\n",
       "      <td>2003.0</td>\n",
       "      <td>Platform</td>\n",
       "      <td>Wanadoo</td>\n",
       "      <td>0.01</td>\n",
       "      <td>0.00</td>\n",
       "      <td>0.00</td>\n",
       "      <td>0.00</td>\n",
       "      <td>0.01</td>\n",
       "    </tr>\n",
       "  </tbody>\n",
       "</table>\n",
       "<p>16598 rows × 11 columns</p>\n",
       "</div>"
      ],
      "text/plain": [
       "        Rank                                              Name Platform  \\\n",
       "0          1                                        Wii Sports      Wii   \n",
       "1          2                                 Super Mario Bros.      NES   \n",
       "2          3                                    Mario Kart Wii      Wii   \n",
       "3          4                                 Wii Sports Resort      Wii   \n",
       "4          5                          Pokemon Red/Pokemon Blue       GB   \n",
       "...      ...                                               ...      ...   \n",
       "16593  16596                Woody Woodpecker in Crazy Castle 5      GBA   \n",
       "16594  16597                     Men in Black II: Alien Escape       GC   \n",
       "16595  16598  SCORE International Baja 1000: The Official Game      PS2   \n",
       "16596  16599                                        Know How 2       DS   \n",
       "16597  16600                                  Spirits & Spells      GBA   \n",
       "\n",
       "         Year         Genre   Publisher  NA_Sales  EU_Sales  JP_Sales  \\\n",
       "0      2006.0        Sports    Nintendo     41.49     29.02      3.77   \n",
       "1      1985.0      Platform    Nintendo     29.08      3.58      6.81   \n",
       "2      2008.0        Racing    Nintendo     15.85     12.88      3.79   \n",
       "3      2009.0        Sports    Nintendo     15.75     11.01      3.28   \n",
       "4      1996.0  Role-Playing    Nintendo     11.27      8.89     10.22   \n",
       "...       ...           ...         ...       ...       ...       ...   \n",
       "16593  2002.0      Platform       Kemco      0.01      0.00      0.00   \n",
       "16594  2003.0       Shooter  Infogrames      0.01      0.00      0.00   \n",
       "16595  2008.0        Racing  Activision      0.00      0.00      0.00   \n",
       "16596  2010.0        Puzzle    7G//AMES      0.00      0.01      0.00   \n",
       "16597  2003.0      Platform     Wanadoo      0.01      0.00      0.00   \n",
       "\n",
       "       Other_Sales  Global_Sales  \n",
       "0             8.46         82.74  \n",
       "1             0.77         40.24  \n",
       "2             3.31         35.82  \n",
       "3             2.96         33.00  \n",
       "4             1.00         31.37  \n",
       "...            ...           ...  \n",
       "16593         0.00          0.01  \n",
       "16594         0.00          0.01  \n",
       "16595         0.00          0.01  \n",
       "16596         0.00          0.01  \n",
       "16597         0.00          0.01  \n",
       "\n",
       "[16598 rows x 11 columns]"
      ]
     },
     "execution_count": 10,
     "metadata": {},
     "output_type": "execute_result"
    }
   ],
   "source": [
    "df"
   ]
  },
  {
   "cell_type": "markdown",
   "metadata": {},
   "source": [
    "# Jupyter  Shortcuts:\n",
    "- df.Tab - will show us attributes\n",
    "- df.values - move cursor in between 'value' shift & Tab\n",
    "- ctrl / - comments \n",
    "- a - to add new cell above\n",
    "- b - to add cell below\n",
    "- dd - to delete cell"
   ]
  },
  {
   "cell_type": "markdown",
   "metadata": {},
   "source": [
    "# Real Problem:"
   ]
  },
  {
   "cell_type": "code",
   "execution_count": 14,
   "metadata": {},
   "outputs": [
    {
     "data": {
      "text/html": [
       "<div>\n",
       "<style scoped>\n",
       "    .dataframe tbody tr th:only-of-type {\n",
       "        vertical-align: middle;\n",
       "    }\n",
       "\n",
       "    .dataframe tbody tr th {\n",
       "        vertical-align: top;\n",
       "    }\n",
       "\n",
       "    .dataframe thead th {\n",
       "        text-align: right;\n",
       "    }\n",
       "</style>\n",
       "<table border=\"1\" class=\"dataframe\">\n",
       "  <thead>\n",
       "    <tr style=\"text-align: right;\">\n",
       "      <th></th>\n",
       "      <th>age</th>\n",
       "      <th>gender</th>\n",
       "      <th>genre</th>\n",
       "    </tr>\n",
       "  </thead>\n",
       "  <tbody>\n",
       "    <tr>\n",
       "      <th>0</th>\n",
       "      <td>20</td>\n",
       "      <td>1</td>\n",
       "      <td>HipHop</td>\n",
       "    </tr>\n",
       "    <tr>\n",
       "      <th>1</th>\n",
       "      <td>23</td>\n",
       "      <td>1</td>\n",
       "      <td>HipHop</td>\n",
       "    </tr>\n",
       "    <tr>\n",
       "      <th>2</th>\n",
       "      <td>25</td>\n",
       "      <td>1</td>\n",
       "      <td>HipHop</td>\n",
       "    </tr>\n",
       "    <tr>\n",
       "      <th>3</th>\n",
       "      <td>26</td>\n",
       "      <td>1</td>\n",
       "      <td>Jazz</td>\n",
       "    </tr>\n",
       "    <tr>\n",
       "      <th>4</th>\n",
       "      <td>29</td>\n",
       "      <td>1</td>\n",
       "      <td>Jazz</td>\n",
       "    </tr>\n",
       "    <tr>\n",
       "      <th>5</th>\n",
       "      <td>30</td>\n",
       "      <td>1</td>\n",
       "      <td>Jazz</td>\n",
       "    </tr>\n",
       "    <tr>\n",
       "      <th>6</th>\n",
       "      <td>31</td>\n",
       "      <td>1</td>\n",
       "      <td>Classical</td>\n",
       "    </tr>\n",
       "    <tr>\n",
       "      <th>7</th>\n",
       "      <td>33</td>\n",
       "      <td>1</td>\n",
       "      <td>Classical</td>\n",
       "    </tr>\n",
       "    <tr>\n",
       "      <th>8</th>\n",
       "      <td>37</td>\n",
       "      <td>1</td>\n",
       "      <td>Classical</td>\n",
       "    </tr>\n",
       "    <tr>\n",
       "      <th>9</th>\n",
       "      <td>20</td>\n",
       "      <td>0</td>\n",
       "      <td>Dance</td>\n",
       "    </tr>\n",
       "    <tr>\n",
       "      <th>10</th>\n",
       "      <td>21</td>\n",
       "      <td>0</td>\n",
       "      <td>Dance</td>\n",
       "    </tr>\n",
       "    <tr>\n",
       "      <th>11</th>\n",
       "      <td>25</td>\n",
       "      <td>0</td>\n",
       "      <td>Dance</td>\n",
       "    </tr>\n",
       "    <tr>\n",
       "      <th>12</th>\n",
       "      <td>26</td>\n",
       "      <td>0</td>\n",
       "      <td>Acoustic</td>\n",
       "    </tr>\n",
       "    <tr>\n",
       "      <th>13</th>\n",
       "      <td>27</td>\n",
       "      <td>0</td>\n",
       "      <td>Acoustic</td>\n",
       "    </tr>\n",
       "    <tr>\n",
       "      <th>14</th>\n",
       "      <td>30</td>\n",
       "      <td>0</td>\n",
       "      <td>Acoustic</td>\n",
       "    </tr>\n",
       "    <tr>\n",
       "      <th>15</th>\n",
       "      <td>31</td>\n",
       "      <td>0</td>\n",
       "      <td>Classical</td>\n",
       "    </tr>\n",
       "    <tr>\n",
       "      <th>16</th>\n",
       "      <td>34</td>\n",
       "      <td>0</td>\n",
       "      <td>Classical</td>\n",
       "    </tr>\n",
       "    <tr>\n",
       "      <th>17</th>\n",
       "      <td>35</td>\n",
       "      <td>0</td>\n",
       "      <td>Classical</td>\n",
       "    </tr>\n",
       "  </tbody>\n",
       "</table>\n",
       "</div>"
      ],
      "text/plain": [
       "    age  gender      genre\n",
       "0    20       1     HipHop\n",
       "1    23       1     HipHop\n",
       "2    25       1     HipHop\n",
       "3    26       1       Jazz\n",
       "4    29       1       Jazz\n",
       "5    30       1       Jazz\n",
       "6    31       1  Classical\n",
       "7    33       1  Classical\n",
       "8    37       1  Classical\n",
       "9    20       0      Dance\n",
       "10   21       0      Dance\n",
       "11   25       0      Dance\n",
       "12   26       0   Acoustic\n",
       "13   27       0   Acoustic\n",
       "14   30       0   Acoustic\n",
       "15   31       0  Classical\n",
       "16   34       0  Classical\n",
       "17   35       0  Classical"
      ]
     },
     "execution_count": 14,
     "metadata": {},
     "output_type": "execute_result"
    }
   ],
   "source": [
    "import pandas as pd\n",
    "music_data = pd.read_csv('music.csv')\n",
    "music_data"
   ]
  },
  {
   "cell_type": "markdown",
   "metadata": {},
   "source": [
    "# Preparing the Data:"
   ]
  },
  {
   "cell_type": "code",
   "execution_count": 22,
   "metadata": {},
   "outputs": [
    {
     "data": {
      "text/html": [
       "<div>\n",
       "<style scoped>\n",
       "    .dataframe tbody tr th:only-of-type {\n",
       "        vertical-align: middle;\n",
       "    }\n",
       "\n",
       "    .dataframe tbody tr th {\n",
       "        vertical-align: top;\n",
       "    }\n",
       "\n",
       "    .dataframe thead th {\n",
       "        text-align: right;\n",
       "    }\n",
       "</style>\n",
       "<table border=\"1\" class=\"dataframe\">\n",
       "  <thead>\n",
       "    <tr style=\"text-align: right;\">\n",
       "      <th></th>\n",
       "      <th>age</th>\n",
       "      <th>gender</th>\n",
       "    </tr>\n",
       "  </thead>\n",
       "  <tbody>\n",
       "    <tr>\n",
       "      <th>0</th>\n",
       "      <td>20</td>\n",
       "      <td>1</td>\n",
       "    </tr>\n",
       "    <tr>\n",
       "      <th>1</th>\n",
       "      <td>23</td>\n",
       "      <td>1</td>\n",
       "    </tr>\n",
       "    <tr>\n",
       "      <th>2</th>\n",
       "      <td>25</td>\n",
       "      <td>1</td>\n",
       "    </tr>\n",
       "    <tr>\n",
       "      <th>3</th>\n",
       "      <td>26</td>\n",
       "      <td>1</td>\n",
       "    </tr>\n",
       "    <tr>\n",
       "      <th>4</th>\n",
       "      <td>29</td>\n",
       "      <td>1</td>\n",
       "    </tr>\n",
       "    <tr>\n",
       "      <th>5</th>\n",
       "      <td>30</td>\n",
       "      <td>1</td>\n",
       "    </tr>\n",
       "    <tr>\n",
       "      <th>6</th>\n",
       "      <td>31</td>\n",
       "      <td>1</td>\n",
       "    </tr>\n",
       "    <tr>\n",
       "      <th>7</th>\n",
       "      <td>33</td>\n",
       "      <td>1</td>\n",
       "    </tr>\n",
       "    <tr>\n",
       "      <th>8</th>\n",
       "      <td>37</td>\n",
       "      <td>1</td>\n",
       "    </tr>\n",
       "    <tr>\n",
       "      <th>9</th>\n",
       "      <td>20</td>\n",
       "      <td>0</td>\n",
       "    </tr>\n",
       "    <tr>\n",
       "      <th>10</th>\n",
       "      <td>21</td>\n",
       "      <td>0</td>\n",
       "    </tr>\n",
       "    <tr>\n",
       "      <th>11</th>\n",
       "      <td>25</td>\n",
       "      <td>0</td>\n",
       "    </tr>\n",
       "    <tr>\n",
       "      <th>12</th>\n",
       "      <td>26</td>\n",
       "      <td>0</td>\n",
       "    </tr>\n",
       "    <tr>\n",
       "      <th>13</th>\n",
       "      <td>27</td>\n",
       "      <td>0</td>\n",
       "    </tr>\n",
       "    <tr>\n",
       "      <th>14</th>\n",
       "      <td>30</td>\n",
       "      <td>0</td>\n",
       "    </tr>\n",
       "    <tr>\n",
       "      <th>15</th>\n",
       "      <td>31</td>\n",
       "      <td>0</td>\n",
       "    </tr>\n",
       "    <tr>\n",
       "      <th>16</th>\n",
       "      <td>34</td>\n",
       "      <td>0</td>\n",
       "    </tr>\n",
       "    <tr>\n",
       "      <th>17</th>\n",
       "      <td>35</td>\n",
       "      <td>0</td>\n",
       "    </tr>\n",
       "  </tbody>\n",
       "</table>\n",
       "</div>"
      ],
      "text/plain": [
       "    age  gender\n",
       "0    20       1\n",
       "1    23       1\n",
       "2    25       1\n",
       "3    26       1\n",
       "4    29       1\n",
       "5    30       1\n",
       "6    31       1\n",
       "7    33       1\n",
       "8    37       1\n",
       "9    20       0\n",
       "10   21       0\n",
       "11   25       0\n",
       "12   26       0\n",
       "13   27       0\n",
       "14   30       0\n",
       "15   31       0\n",
       "16   34       0\n",
       "17   35       0"
      ]
     },
     "execution_count": 22,
     "metadata": {},
     "output_type": "execute_result"
    }
   ],
   "source": [
    "X = music_data.drop(columns = ['genre'])\n",
    "X"
   ]
  },
  {
   "cell_type": "code",
   "execution_count": 23,
   "metadata": {},
   "outputs": [
    {
     "data": {
      "text/plain": [
       "0        HipHop\n",
       "1        HipHop\n",
       "2        HipHop\n",
       "3          Jazz\n",
       "4          Jazz\n",
       "5          Jazz\n",
       "6     Classical\n",
       "7     Classical\n",
       "8     Classical\n",
       "9         Dance\n",
       "10        Dance\n",
       "11        Dance\n",
       "12     Acoustic\n",
       "13     Acoustic\n",
       "14     Acoustic\n",
       "15    Classical\n",
       "16    Classical\n",
       "17    Classical\n",
       "Name: genre, dtype: object"
      ]
     },
     "execution_count": 23,
     "metadata": {},
     "output_type": "execute_result"
    }
   ],
   "source": [
    "Y = music_data['genre']\n",
    "Y"
   ]
  },
  {
   "cell_type": "markdown",
   "metadata": {},
   "source": [
    "# Learning and Predicting:"
   ]
  },
  {
   "cell_type": "code",
   "execution_count": 45,
   "metadata": {},
   "outputs": [
    {
     "data": {
      "text/plain": [
       "1.0"
      ]
     },
     "execution_count": 45,
     "metadata": {},
     "output_type": "execute_result"
    }
   ],
   "source": [
    "import pandas as pd\n",
    "# from package.module import class \n",
    "from sklearn.tree import DecisionTreeClassifier\n",
    "\n",
    "'''For testing the data\n",
    "from package.module import function(to split into multiple columns)'''\n",
    "from sklearn.model_selection import train_test_split\n",
    "\n",
    "'''for calculating accuracy'''\n",
    "from sklearn.metrics import accuracy_score\n",
    "\n",
    "music_data = pd.read_csv('music.csv')\n",
    "X = music_data.drop(columns = ['genre']) # Input \n",
    "y = music_data['genre']  # Output\n",
    "\n",
    "'''This returns tupple & we are using 80% of data'''\n",
    "X_train, X_test, y_train, y_test = train_test_split(X, y, test_size = 0.2)\n",
    "\n",
    "# New instance of class\n",
    "model = DecisionTreeClassifier()\n",
    "#Training the data passing only training dataset\n",
    "model.fit(X_train, y_train)\n",
    "\n",
    "'''#This takes 2D array & takes another array in it 21yr old boy likes hip hop and 22yr women like dance'''\n",
    "predictions = model.predict(X_test) \n",
    "predictions\n",
    "\n",
    "\n",
    "# Calculating Accuracy\n",
    "score = accuracy_score(y_test, predictions) # comparing with actual score\n",
    "\n",
    "score"
   ]
  },
  {
   "cell_type": "markdown",
   "metadata": {},
   "source": [
    "# Persisting Models:\n",
    "* Basic implementation for building and training data"
   ]
  },
  {
   "cell_type": "code",
   "execution_count": 2,
   "metadata": {
    "scrolled": true
   },
   "outputs": [
    {
     "data": {
      "text/plain": [
       "array(['HipHop'], dtype=object)"
      ]
     },
     "execution_count": 2,
     "metadata": {},
     "output_type": "execute_result"
    }
   ],
   "source": [
    "#\n",
    "import pandas as pd\n",
    "from sklearn.tree import DecisionTreeClassifier\n",
    "\n",
    "from sklearn.externals import joblib\n",
    "\n",
    "'''We don't train model alwayas instead we can use already\n",
    "executed/ trained file and we can execute that model\n",
    "\n",
    "joblib- is for training  model\n",
    "\n",
    "#Import our dataset \n",
    "music_data = pd.read_csv('music.csv')\n",
    "X = music_data.drop(columns = ['genre']) \n",
    "y = music_data['genre']\n",
    "\n",
    "#create model \n",
    "model = DecisionTreeClassifier()\n",
    "\n",
    "#Train model \n",
    "model.fit(X_train, y_train)\n",
    "'''\n",
    "# music_data = pd.read_csv('music.csv')\n",
    "# X = music_data.drop(columns = ['genre']) \n",
    "# y = music_data['genre']\n",
    "\n",
    "# model = DecisionTreeClassifier()\n",
    "# model.fit(X, y)\n",
    "\n",
    "# joblib.dump(model, 'music-recommender.joblib')\n",
    "# predictions = model.predict(X_test)\n",
    "\n",
    " # To make load &  predictions \n",
    "model = joblib.load('music-recommender.joblib')\n",
    "predictions = model.predict([ [21, 1] ])\n",
    "predictions"
   ]
  },
  {
   "cell_type": "markdown",
   "metadata": {},
   "source": [
    "# Visualizing Decision Tree:\n",
    "- '''open the file generated by this code in VS code and download 'dot' \n",
    "extension and open two windows'''"
   ]
  },
  {
   "cell_type": "code",
   "execution_count": 6,
   "metadata": {},
   "outputs": [],
   "source": [
    "import pandas as pd\n",
    "from sklearn.tree import DecisionTreeClassifier\n",
    "from sklearn import tree\n",
    "\n",
    "music_data = pd.read_csv('music.csv')\n",
    "X = music_data.drop(columns = ['genre'])\n",
    "y = music_data['genre']\n",
    "\n",
    "model = DecisionTreeClassifier()\n",
    "model.fit(X, y)\n",
    "\n",
    "tree.export_graphviz(model, out_file = 'music-recommender.dot',\n",
    "                    feature_names=['age', 'gender'],\n",
    "                    class_names=sorted(y.unique()),\n",
    "                    label='all',\n",
    "                    rounded=True,\n",
    "                    filled=True)\n",
    "\n"
   ]
  },
  {
   "cell_type": "markdown",
   "metadata": {},
   "source": [
    "# Your First Django Project: It is a framework\n",
    "- Framework - A library of reusable modules(building blocks). These modules provide functionalty of common tasks.\n",
    "- A Framework defines a structure for our applications."
   ]
  },
  {
   "cell_type": "code",
   "execution_count": 1,
   "metadata": {},
   "outputs": [
    {
     "ename": "ModuleNotFoundError",
     "evalue": "No module named 'django'",
     "output_type": "error",
     "traceback": [
      "\u001b[1;31m---------------------------------------------------------------------------\u001b[0m",
      "\u001b[1;31mModuleNotFoundError\u001b[0m                       Traceback (most recent call last)",
      "\u001b[1;32m<ipython-input-1-427f80c8354e>\u001b[0m in \u001b[0;36m<module>\u001b[1;34m\u001b[0m\n\u001b[1;32m----> 1\u001b[1;33m \u001b[1;32mimport\u001b[0m \u001b[0mdjango\u001b[0m\u001b[1;33m\u001b[0m\u001b[1;33m\u001b[0m\u001b[0m\n\u001b[0m\u001b[0;32m      2\u001b[0m \u001b[0mprint\u001b[0m\u001b[1;33m(\u001b[0m\u001b[0mdjango\u001b[0m\u001b[1;33m.\u001b[0m\u001b[0mget_version\u001b[0m\u001b[1;33m(\u001b[0m\u001b[1;33m)\u001b[0m\u001b[1;33m)\u001b[0m\u001b[1;33m\u001b[0m\u001b[1;33m\u001b[0m\u001b[0m\n",
      "\u001b[1;31mModuleNotFoundError\u001b[0m: No module named 'django'"
     ]
    }
   ],
   "source": [
    "import django\n",
    "print(django.get_version())"
   ]
  },
  {
   "cell_type": "code",
   "execution_count": null,
   "metadata": {},
   "outputs": [],
   "source": []
  }
 ],
 "metadata": {
  "kernelspec": {
   "display_name": "Python 3",
   "language": "python",
   "name": "python3"
  },
  "language_info": {
   "codemirror_mode": {
    "name": "ipython",
    "version": 3
   },
   "file_extension": ".py",
   "mimetype": "text/x-python",
   "name": "python",
   "nbconvert_exporter": "python",
   "pygments_lexer": "ipython3",
   "version": "3.7.6"
  }
 },
 "nbformat": 4,
 "nbformat_minor": 4
}
